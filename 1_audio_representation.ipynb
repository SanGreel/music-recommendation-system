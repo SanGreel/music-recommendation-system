{
 "cells": [
  {
   "cell_type": "code",
   "execution_count": 1,
   "metadata": {},
   "outputs": [],
   "source": [
    "from __future__ import print_function\n",
    "\n",
    "import librosa\n",
    "import librosa.display\n",
    "import IPython.display\n",
    "import numpy as np\n",
    "import pandas as pd\n",
    "import math\n",
    "import csv"
   ]
  },
  {
   "cell_type": "code",
   "execution_count": 12,
   "metadata": {},
   "outputs": [],
   "source": [
    "# cut 20 sec starting from 30th second\n",
    "\n",
    "audio_file = './data/audio/rap/16. Lay Me Bare.mp3'\n",
    "\n",
    "collection_file = \"./data/0_collection.csv\"\n",
    "ouput_folder = './data/db_20/'\n",
    "rate = 44100\n",
    "mono = True\n",
    "n_components = 8\n",
    "count_shrink_freq = 50000"
   ]
  },
  {
   "cell_type": "code",
   "execution_count": 13,
   "metadata": {},
   "outputs": [],
   "source": [
    "df = pd.read_csv(collection_file, sep='\\t')\n",
    "df = df.drop(['Unnamed: 0'], axis=1)"
   ]
  },
  {
   "cell_type": "code",
   "execution_count": 14,
   "metadata": {},
   "outputs": [],
   "source": [
    "def represent_audio(audio_file, rate, mono, n_components, count_shrink_freq):\n",
    "    # Load the track in mono\n",
    "    y, sr = librosa.load(audio_file, mono=mono, sr=rate)\n",
    "    \n",
    "    start_second = 45\n",
    "    cut_amount = 20\n",
    "\n",
    "    y = y[start_second*sr:start_second*sr+cut_amount*sr]\n",
    "    \n",
    "    # Let's decompose a spectrogram with NMF, and then resynthesize an individual component\n",
    "    D = librosa.stft(y)\n",
    "\n",
    "    # Separate the magnitude and phase\n",
    "    S, phase = librosa.magphase(D)\n",
    "\n",
    "    # Decompose by nmf\n",
    "    components, activations = librosa.decompose.decompose(S, n_components=n_components, sort=True)\n",
    "\n",
    "    y_result = []\n",
    "\n",
    "    for i in range(0, len(activations)):\n",
    "        # Reconstruct a spectrogram by the outer product of component k and its activation\n",
    "        D_k = np.multiply.outer(components[:, i], activations[i])\n",
    "\n",
    "        # invert the stft after putting the phase back in\n",
    "        y_k = librosa.istft(D_k * phase)\n",
    "        #y_k = y_k[::math.ceil(len(y_k)/count_shrink_freq)]\n",
    "\n",
    "        y_result.append(y_k)\n",
    "        \n",
    "    return y_result"
   ]
  },
  {
   "cell_type": "code",
   "execution_count": 15,
   "metadata": {},
   "outputs": [],
   "source": [
    "def save2csv(data, name, ouput_folder):\n",
    "    with open(ouput_folder+name, 'w') as writeFile:\n",
    "        writer = csv.writer(writeFile)\n",
    "        writer.writerows(data)\n",
    "    writeFile.close() "
   ]
  },
  {
   "cell_type": "code",
   "execution_count": 44,
   "metadata": {},
   "outputs": [],
   "source": [
    "curren_index = 0\n",
    "\n",
    "start_index = 0\n",
    "finish_index = df.shape[0]\n",
    "\n",
    "for index, row in df.iterrows():\n",
    "    if(curren_index>start_index and curren_index<=finish_index):\n",
    "        # print(curren_index)\n",
    "        # print(row['i'])\n",
    "        tty = represent_audio(row['filepath'], rate, mono, n_components, count_shrink_freq)\n",
    "\n",
    "        output_file_name = str(row['i'])+\".csv\"\n",
    "        save2csv(tty, output_file_name, ouput_folder)\n",
    "        \n",
    "    curren_index +=1\n",
    "    "
   ]
  },
  {
   "cell_type": "code",
   "execution_count": null,
   "metadata": {},
   "outputs": [],
   "source": []
  }
 ],
 "metadata": {
  "kernelspec": {
   "display_name": "Python 3",
   "language": "python",
   "name": "python3"
  },
  "language_info": {
   "codemirror_mode": {
    "name": "ipython",
    "version": 3
   },
   "file_extension": ".py",
   "mimetype": "text/x-python",
   "name": "python",
   "nbconvert_exporter": "python",
   "pygments_lexer": "ipython3",
   "version": "3.6.3"
  }
 },
 "nbformat": 4,
 "nbformat_minor": 2
}
