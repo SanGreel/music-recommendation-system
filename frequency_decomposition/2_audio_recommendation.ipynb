{
 "cells": [
  {
   "cell_type": "code",
   "execution_count": 7,
   "metadata": {},
   "outputs": [],
   "source": [
    "from __future__ import print_function\n",
    "\n",
    "import librosa\n",
    "import librosa.display\n",
    "import IPython.display\n",
    "import numpy as np\n",
    "import pandas as pd\n",
    "import math\n",
    "import glob\n",
    "import csv\n",
    "from numpy.fft import fft, ifft, fft2, ifft2, fftshift"
   ]
  },
  {
   "cell_type": "code",
   "execution_count": 8,
   "metadata": {},
   "outputs": [],
   "source": [
    "import matplotlib.pyplot as plt\n",
    "import matplotlib.style as ms\n",
    "ms.use('seaborn-muted')\n",
    "%matplotlib inline"
   ]
  },
  {
   "cell_type": "code",
   "execution_count": 9,
   "metadata": {},
   "outputs": [],
   "source": [
    "collection = \"../data/audio_data_collection.csv\"\n",
    "audio_data_folder = './../data/20_sec_embed/'"
   ]
  },
  {
   "cell_type": "code",
   "execution_count": 10,
   "metadata": {},
   "outputs": [],
   "source": [
    "def read_from_files(file):\n",
    "    with open(file, 'r') as f:\n",
    "        reader = csv.reader(f)\n",
    "        audio_track_data = list(reader)\n",
    "    \n",
    "    for i in range(len(audio_track_data)):\n",
    "        # audio_track_data[i] = [float(j) for j in audio_track_data[i]]\n",
    "        audio_track_data[i] = np.array(audio_track_data[i]).astype(np.float)\n",
    "    \n",
    "    return audio_track_data"
   ]
  },
  {
   "cell_type": "code",
   "execution_count": 11,
   "metadata": {},
   "outputs": [],
   "source": [
    "def resizer(line1, line2):\n",
    "    len_line1 = len(line1)\n",
    "    len_line2 = len(line2)\n",
    "    \n",
    "    new_line1 = []\n",
    "    new_line2 = []\n",
    "    \n",
    "    if(len_line1>len_line2):\n",
    "        new_line1 = line1[0:len_line2]\n",
    "        new_line2 = line2\n",
    "    else:\n",
    "        new_line1 = line1\n",
    "        new_line2 = line2[0:len_line1]\n",
    "    \n",
    "    return new_line1, new_line2"
   ]
  },
  {
   "cell_type": "code",
   "execution_count": 12,
   "metadata": {},
   "outputs": [],
   "source": [
    "def cross_correlation_using_fft(x, y):\n",
    "    f1 = fft(x)\n",
    "    f2 = fft(np.flipud(y))\n",
    "    cc = np.real(ifft(f1 * f2))\n",
    "    return fftshift(cc)"
   ]
  },
  {
   "cell_type": "code",
   "execution_count": 17,
   "metadata": {},
   "outputs": [],
   "source": [
    "# shift 0 means that y starts 'shift' time steps before x # shift 0 means that y starts 'shift' time steps after x\n",
    "def compute_shift(x, y):\n",
    "    assert len(x) == len(y)\n",
    "    c = cross_correlation_using_fft(x, y)\n",
    "    assert len(c) == len(x)\n",
    "    zero_index = int(len(x) / 2) - 1\n",
    "    shift = zero_index - np.argmax(c)\n",
    "    return shift"
   ]
  },
  {
   "cell_type": "code",
   "execution_count": 18,
   "metadata": {},
   "outputs": [],
   "source": [
    "def abs_mean(anylist):\n",
    "    coeff = [abs(number) for number in anylist]\n",
    "    result = np.mean(coeff)\n",
    "    \n",
    "    return result"
   ]
  },
  {
   "cell_type": "code",
   "execution_count": 52,
   "metadata": {},
   "outputs": [],
   "source": [
    "#other correlation calculation approache\n",
    "def compute_tracks_correlation(track_1, track_2):\n",
    "    track_correlations = []\n",
    "\n",
    "    for i in range(len(track_1)):\n",
    "        line1, line2 = resizer(track_1[i], track_2[i])\n",
    "        #coefs = abs_mean(np.correlate(line1, line2, mode='full'))\n",
    "        coefs = abs_mean(cross_correlation_using_fft(line1, line2))\n",
    "        \n",
    "        track_correlations.append(coefs)\n",
    "        #print(coefs)\n",
    "        \n",
    "    return track_correlations"
   ]
  },
  {
   "cell_type": "code",
   "execution_count": 20,
   "metadata": {},
   "outputs": [],
   "source": [
    "def calculate_similarity(track_comparation_coeffs):\n",
    "    coeffs = []\n",
    "    \n",
    "    for coeff in track_comparation_coeffs:\n",
    "        coeff = [abs(number) for number in coeff]\n",
    "        result = np.mean(coeff) # np.mean(coeff)\n",
    "        \n",
    "        coeffs.append(result)\n",
    "    \n",
    "    return coeffs"
   ]
  },
  {
   "cell_type": "code",
   "execution_count": 21,
   "metadata": {},
   "outputs": [],
   "source": [
    "def get_top(l, n):\n",
    "    result = []\n",
    "    tl = sorted(l, reverse=True)[:n]\n",
    "\n",
    "    for t in tl:\n",
    "        result.append(l.index(t))\n",
    "        \n",
    "    return result"
   ]
  },
  {
   "cell_type": "code",
   "execution_count": 23,
   "metadata": {},
   "outputs": [],
   "source": [
    "df = pd.read_csv(collection, sep='\\t')\n",
    "df = df.drop(['Unnamed: 0'], axis=1)\n",
    "\n",
    "files = glob.glob(audio_data_folder + '/*.csv', recursive=True)"
   ]
  },
  {
   "cell_type": "markdown",
   "metadata": {},
   "source": [
    "### Next step will take a while, it's reading data into memory"
   ]
  },
  {
   "cell_type": "code",
   "execution_count": 24,
   "metadata": {},
   "outputs": [],
   "source": [
    "tracks_data = []\n",
    "\n",
    "for file in files:\n",
    "    track_data = read_from_files(file)\n",
    "    tracks_data.append(track_data)"
   ]
  },
  {
   "cell_type": "code",
   "execution_count": 33,
   "metadata": {},
   "outputs": [
    {
     "data": {
      "text/plain": [
       "101"
      ]
     },
     "execution_count": 33,
     "metadata": {},
     "output_type": "execute_result"
    }
   ],
   "source": [
    "len(tracks_data)"
   ]
  },
  {
   "cell_type": "code",
   "execution_count": 25,
   "metadata": {},
   "outputs": [],
   "source": [
    "# track_1 = read_from_files(files[0])\n",
    "# track_2 = read_from_files(files[1])\n",
    "\n",
    "# track_correlations2 = compute_tracks_correlation(track_1, track_2)\n",
    "# track_correlations2"
   ]
  },
  {
   "cell_type": "markdown",
   "metadata": {},
   "source": [
    "### Algorithm will find recommendation for composition below"
   ]
  },
  {
   "cell_type": "code",
   "execution_count": 43,
   "metadata": {},
   "outputs": [
    {
     "data": {
      "text/html": [
       "<div>\n",
       "<style>\n",
       "    .dataframe thead tr:only-child th {\n",
       "        text-align: right;\n",
       "    }\n",
       "\n",
       "    .dataframe thead th {\n",
       "        text-align: left;\n",
       "    }\n",
       "\n",
       "    .dataframe tbody tr th {\n",
       "        vertical-align: top;\n",
       "    }\n",
       "</style>\n",
       "<table border=\"1\" class=\"dataframe\">\n",
       "  <thead>\n",
       "    <tr style=\"text-align: right;\">\n",
       "      <th></th>\n",
       "      <th>i</th>\n",
       "      <th>id</th>\n",
       "      <th>name</th>\n",
       "      <th>filepath</th>\n",
       "      <th>genre</th>\n",
       "    </tr>\n",
       "  </thead>\n",
       "  <tbody>\n",
       "    <tr>\n",
       "      <th>90</th>\n",
       "      <td>90</td>\n",
       "      <td>91eedc9117</td>\n",
       "      <td>05. Big For Your Boots.mp3</td>\n",
       "      <td>../data/audio/rap/05. Big For Your Boots.mp3</td>\n",
       "      <td>rap</td>\n",
       "    </tr>\n",
       "  </tbody>\n",
       "</table>\n",
       "</div>"
      ],
      "text/plain": [
       "     i          id                        name  \\\n",
       "90  90  91eedc9117  05. Big For Your Boots.mp3   \n",
       "\n",
       "                                        filepath genre  \n",
       "90  ../data/audio/rap/05. Big For Your Boots.mp3   rap  "
      ]
     },
     "execution_count": 43,
     "metadata": {},
     "output_type": "execute_result"
    }
   ],
   "source": [
    "q_index = 90\n",
    "track_q = tracks_data[90]\n",
    "\n",
    "df[q_index:q_index+1]"
   ]
  },
  {
   "cell_type": "markdown",
   "metadata": {},
   "source": [
    "#### Next step, again, will take a while, it compares correlation for track frequencies"
   ]
  },
  {
   "cell_type": "code",
   "execution_count": 53,
   "metadata": {},
   "outputs": [],
   "source": [
    "track_comparation_coeffs = []\n",
    "h = 0 \n",
    "\n",
    "for track in tracks_data:\n",
    "    # print(h)\n",
    "    \n",
    "    track_comparation_coeff = compute_tracks_correlation(track_q, track)\n",
    "    track_comparation_coeffs.append(track_comparation_coeff)\n",
    "    h +=1"
   ]
  },
  {
   "cell_type": "code",
   "execution_count": 45,
   "metadata": {},
   "outputs": [],
   "source": [
    "comparation_result = calculate_similarity(track_comparation_coeffs)"
   ]
  },
  {
   "cell_type": "code",
   "execution_count": 47,
   "metadata": {},
   "outputs": [],
   "source": [
    "result = get_top(comparation_result, 10)"
   ]
  },
  {
   "cell_type": "code",
   "execution_count": 50,
   "metadata": {},
   "outputs": [
    {
     "name": "stdout",
     "output_type": "stream",
     "text": [
      "For track\n",
      "05. Big For Your Boots.mp3  [rap]\n",
      "\n",
      "We recommend you to listen:\n",
      "\n",
      "1) 05. Big For Your Boots.mp3  [rap]\n",
      "2) 09. Don't Go (Feat. Lights).mp3  [metal]\n",
      "3) 11. Return Of The Rucksack.mp3  [rap]\n",
      "4) 14. Sleepwalking.mp3  [metal]\n",
      "5) 06. The Comedown.mp3  [metal]\n",
      "6) 08-max_cooper_feat_kathrin_deboer-impermanence.mp3  [electro]\n",
      "7) 02. Russell Watson - Mattinata.mp3  [classics]\n",
      "8) 04 - Pressure Off.mp3  [pop]\n",
      "9) 11. Shadow Moses.mp3  [metal]\n",
      "10) 08. It Never Ends.mp3  [metal]\n"
     ]
    }
   ],
   "source": [
    "#rec_music = []\n",
    "k = 1\n",
    "\n",
    "print(\"For track\")\n",
    "print(df.iloc[q_index]['name'],\"  [\", df.iloc[q_index]['genre'], \"]\", sep=\"\")\n",
    "print(\"\")\n",
    "\n",
    "\n",
    "print(\"We recommend you to listen:\")\n",
    "print(\"\")\n",
    "\n",
    "for i in result:\n",
    "    #a = get_row(df, i)\n",
    "    \n",
    "    print(str(k),\") \", df.iloc[i]['name'],\"  [\", df.iloc[i]['genre'], \"]\", sep=\"\")\n",
    "    # print(\"\")\n",
    "    k += 1"
   ]
  }
 ],
 "metadata": {
  "kernelspec": {
   "display_name": "Python 3",
   "language": "python",
   "name": "python3"
  },
  "language_info": {
   "codemirror_mode": {
    "name": "ipython",
    "version": 3
   },
   "file_extension": ".py",
   "mimetype": "text/x-python",
   "name": "python",
   "nbconvert_exporter": "python",
   "pygments_lexer": "ipython3",
   "version": "3.6.3"
  }
 },
 "nbformat": 4,
 "nbformat_minor": 2
}
