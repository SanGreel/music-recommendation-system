{
 "cells": [
  {
   "cell_type": "code",
   "execution_count": 1,
   "metadata": {},
   "outputs": [],
   "source": [
    "from __future__ import print_function\n",
    "\n",
    "import librosa\n",
    "import librosa.display\n",
    "import IPython.display\n",
    "import numpy as np\n",
    "import pandas as pd\n",
    "import math\n",
    "import csv"
   ]
  },
  {
   "cell_type": "code",
   "execution_count": 2,
   "metadata": {},
   "outputs": [],
   "source": [
    "audio_file = '../data/audio/rap/16. Lay Me Bare.mp3'\n",
    "\n",
    "collection = \"../data/audio_data_collection.csv\"\n",
    "ouput_folder = '../data/20_sec_embed/'"
   ]
  },
  {
   "cell_type": "code",
   "execution_count": 3,
   "metadata": {},
   "outputs": [],
   "source": [
    "# Main parameters of the algorithm\n",
    "\n",
    "# set second from what start audio file processing,\n",
    "# it's important to cut introduction part that is not informative enough\n",
    "start_second = 45\n",
    "\n",
    "# number of seconds to proceed\n",
    "cut_amount = 20\n",
    "    \n",
    "rate = 44100\n",
    "mono = True\n",
    "\n",
    "# number of components to decompose\n",
    "n_components = 8\n",
    "count_shrink_freq = 50000"
   ]
  },
  {
   "cell_type": "code",
   "execution_count": 4,
   "metadata": {},
   "outputs": [],
   "source": [
    "df = pd.read_csv(collection, sep='\\t')\n",
    "df = df.drop(['Unnamed: 0'], axis=1)"
   ]
  },
  {
   "cell_type": "code",
   "execution_count": 5,
   "metadata": {},
   "outputs": [],
   "source": [
    "def save2csv(data, name, ouput_folder):\n",
    "    with open(ouput_folder+name, 'w') as writeFile:\n",
    "        writer = csv.writer(writeFile)\n",
    "        writer.writerows(data)\n",
    "    writeFile.close() "
   ]
  },
  {
   "cell_type": "code",
   "execution_count": 6,
   "metadata": {},
   "outputs": [],
   "source": [
    "def represent_audio(audio_file, rate, mono, n_components, count_shrink_freq, start_second, cut_amount):\n",
    "    # Load the track in mono\n",
    "    y, sr = librosa.load(audio_file, mono=mono, sr=rate)\n",
    "    \n",
    "    y = y[start_second*sr:start_second*sr+cut_amount*sr]\n",
    "    \n",
    "    # decompose a spectrogram with NMF, and then resynthesize an individual component\n",
    "    D = librosa.stft(y)\n",
    "\n",
    "    # Separate the magnitude and phase\n",
    "    S, phase = librosa.magphase(D)\n",
    "\n",
    "    # Decompose by NMF\n",
    "    components, activations = librosa.decompose.decompose(S, n_components=n_components, sort=True)\n",
    "\n",
    "    y_result = []\n",
    "\n",
    "    for i in range(0, len(activations)):\n",
    "        # Reconstruct a spectrogram by the outer product of component k and its activation\n",
    "        D_k = np.multiply.outer(components[:, i], activations[i])\n",
    "\n",
    "        # invert the stft after putting the phase back in\n",
    "        y_k = librosa.istft(D_k * phase)\n",
    "        #y_k = y_k[::math.ceil(len(y_k)/count_shrink_freq)]\n",
    "\n",
    "        y_result.append(y_k)\n",
    "        \n",
    "    return y_result"
   ]
  },
  {
   "cell_type": "code",
   "execution_count": 10,
   "metadata": {},
   "outputs": [
    {
     "name": "stdout",
     "output_type": "stream",
     "text": [
      "proceesed file # 0\n",
      "proceesed file # 1\n"
     ]
    }
   ],
   "source": [
    "curren_index = 0\n",
    "\n",
    "start_index = -1\n",
    "finish_index = df.shape[0]\n",
    "\n",
    "for index, row in df.iterrows():\n",
    "    if(curren_index>start_index and curren_index<=finish_index):\n",
    "        print(\"processed file #\", curren_index)\n",
    "        #print(row['i'])\n",
    "        \n",
    "        tty = represent_audio(row['filepath'], rate, mono, n_components, count_shrink_freq, start_second, cut_amount)\n",
    "\n",
    "        output_file_name = str(row['i'])+\".csv\"\n",
    "        save2csv(tty, output_file_name, ouput_folder)\n",
    "        \n",
    "    curren_index +=1"
   ]
  }
 ],
 "metadata": {
  "kernelspec": {
   "display_name": "Python 3",
   "language": "python",
   "name": "python3"
  },
  "language_info": {
   "codemirror_mode": {
    "name": "ipython",
    "version": 3
   },
   "file_extension": ".py",
   "mimetype": "text/x-python",
   "name": "python",
   "nbconvert_exporter": "python",
   "pygments_lexer": "ipython3",
   "version": "3.6.3"
  }
 },
 "nbformat": 4,
 "nbformat_minor": 2
}
