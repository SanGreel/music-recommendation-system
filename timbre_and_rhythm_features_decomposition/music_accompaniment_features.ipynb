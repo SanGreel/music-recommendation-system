{
 "cells": [
  {
   "cell_type": "code",
   "execution_count": 2,
   "metadata": {},
   "outputs": [
    {
     "name": "stdout",
     "output_type": "stream",
     "text": [
      "Populating the interactive namespace from numpy and matplotlib\n",
      "The autoreload extension is already loaded. To reload it, use:\n",
      "  %reload_ext autoreload\n"
     ]
    }
   ],
   "source": [
    "%pylab inline\n",
    "\n",
    "import warnings\n",
    "warnings.filterwarnings('ignore')\n",
    "\n",
    "%load_ext autoreload\n",
    "%autoreload 2\n",
    "\n",
    "# numerical processing and scientific libraries\n",
    "import numpy as np\n",
    "\n",
    "# plotting\n",
    "import matplotlib.pyplot as plt\n",
    "\n",
    "# reading wav and mp3 files\n",
    "from audiofile_read import *  # included in the rp_extract git package\n",
    "\n",
    "# Rhythm Pattern Audio Extraction Library\n",
    "from rp_extract import rp_extract\n",
    "from rp_plot import *   # can be skipped if you don't want to do any plots\n",
    "import librosa\n",
    "import os\n",
    "import pandas as pd\n",
    "import scipy"
   ]
  },
  {
   "cell_type": "code",
   "execution_count": null,
   "metadata": {},
   "outputs": [],
   "source": []
  },
  {
   "cell_type": "code",
   "execution_count": 3,
   "metadata": {},
   "outputs": [
    {
     "ename": "NameError",
     "evalue": "File does not exist: ../audio/electro/01-max_cooper_tom_hodge-symmetry.mp3",
     "output_type": "error",
     "traceback": [
      "\u001b[0;31m---------------------------------------------------------------------------\u001b[0m",
      "\u001b[0;31mNameError\u001b[0m                                 Traceback (most recent call last)",
      "\u001b[0;32m<ipython-input-3-2c162db2ab56>\u001b[0m in \u001b[0;36m<module>\u001b[0;34m()\u001b[0m\n\u001b[0;32m----> 1\u001b[0;31m \u001b[0msamplerate\u001b[0m\u001b[0;34m,\u001b[0m \u001b[0msamplewidth\u001b[0m\u001b[0;34m,\u001b[0m \u001b[0mwavedata\u001b[0m \u001b[0;34m=\u001b[0m \u001b[0maudiofile_read\u001b[0m\u001b[0;34m(\u001b[0m\u001b[0;34m'../audio/electro/01-max_cooper_tom_hodge-symmetry.mp3'\u001b[0m\u001b[0;34m,\u001b[0m \u001b[0mnormalize\u001b[0m\u001b[0;34m=\u001b[0m\u001b[0;32mFalse\u001b[0m\u001b[0;34m)\u001b[0m\u001b[0;34m\u001b[0m\u001b[0m\n\u001b[0m",
      "\u001b[0;32m~/Main/project/music_recommendation_system/timbre_and_rhythm_features/audiofile_read.py\u001b[0m in \u001b[0;36maudiofile_read\u001b[0;34m(filename, normalize, verbose, include_decoder, no_extension_check, force_resampling)\u001b[0m\n\u001b[1;32m    375\u001b[0m     \u001b[0;31m# check if file exists or has 0 bytes\u001b[0m\u001b[0;34m\u001b[0m\u001b[0;34m\u001b[0m\u001b[0m\n\u001b[1;32m    376\u001b[0m     \u001b[0;32mif\u001b[0m \u001b[0;32mnot\u001b[0m \u001b[0mos\u001b[0m\u001b[0;34m.\u001b[0m\u001b[0mpath\u001b[0m\u001b[0;34m.\u001b[0m\u001b[0mexists\u001b[0m\u001b[0;34m(\u001b[0m\u001b[0mfilename\u001b[0m\u001b[0;34m)\u001b[0m\u001b[0;34m:\u001b[0m\u001b[0;34m\u001b[0m\u001b[0m\n\u001b[0;32m--> 377\u001b[0;31m         \u001b[0;32mraise\u001b[0m \u001b[0mNameError\u001b[0m\u001b[0;34m(\u001b[0m\u001b[0;34m\"File does not exist: \"\u001b[0m \u001b[0;34m+\u001b[0m \u001b[0mfilename\u001b[0m\u001b[0;34m)\u001b[0m\u001b[0;34m\u001b[0m\u001b[0m\n\u001b[0m\u001b[1;32m    378\u001b[0m     \u001b[0;32mif\u001b[0m \u001b[0mos\u001b[0m\u001b[0;34m.\u001b[0m\u001b[0mpath\u001b[0m\u001b[0;34m.\u001b[0m\u001b[0mgetsize\u001b[0m\u001b[0;34m(\u001b[0m\u001b[0mfilename\u001b[0m\u001b[0;34m)\u001b[0m \u001b[0;34m==\u001b[0m \u001b[0;36m0\u001b[0m\u001b[0;34m:\u001b[0m\u001b[0;34m\u001b[0m\u001b[0m\n\u001b[1;32m    379\u001b[0m         \u001b[0;32mraise\u001b[0m \u001b[0mValueError\u001b[0m\u001b[0;34m(\u001b[0m\u001b[0;34m\"File has 0 bytes: \"\u001b[0m \u001b[0;34m+\u001b[0m \u001b[0mfilename\u001b[0m\u001b[0;34m)\u001b[0m\u001b[0;34m\u001b[0m\u001b[0m\n",
      "\u001b[0;31mNameError\u001b[0m: File does not exist: ../audio/electro/01-max_cooper_tom_hodge-symmetry.mp3"
     ]
    }
   ],
   "source": [
    "samplerate, samplewidth, wavedata = audiofile_read('../audio/electro/01-max_cooper_tom_hodge-symmetry.mp3', normalize=False)"
   ]
  },
  {
   "cell_type": "code",
   "execution_count": 3,
   "metadata": {
    "collapsed": true
   },
   "outputs": [],
   "source": [
    "def features_extraction_accompaniment(track_path):\n",
    "    # adapt the fext array to your needs:\n",
    "    fext = ['rp','ssd','rh','mvd'] # sh, tssd, trh\n",
    "    samplerate, samplewidth, wavedata = audiofile_read(track_path, normalize=False)\n",
    "    features = rp_extract(wavedata,\n",
    "                      samplerate,\n",
    "                      extract_rp   = ('rp' in fext),          # extract Rhythm Patterns features\n",
    "                      extract_ssd  = ('ssd' in fext),           # extract Statistical Spectrum Descriptor\n",
    "                      #extract_sh   = ('sh' in fext),          # extract Statistical Histograms\n",
    "                      extract_tssd = ('tssd' in fext),          # extract temporal Statistical Spectrum Descriptor\n",
    "                      extract_rh   = ('rh' in fext),           # extract Rhythm Histogram features\n",
    "                      extract_trh  = ('trh' in fext),          # extract temporal Rhythm Histogram features\n",
    "                      extract_mvd  = ('mvd' in fext),        # extract Modulation Frequency Variance Descriptor\n",
    "                      spectral_masking=True,\n",
    "                      transform_db=True,\n",
    "                      transform_phon=True,\n",
    "                      transform_sone=True,\n",
    "                      fluctuation_strength_weighting=True,\n",
    "                      skip_leadin_fadeout=1,\n",
    "                      step_width=1)\n",
    "    res = []\n",
    "    for key in fext:\n",
    "        res.extend(features[key])\n",
    "    return res"
   ]
  },
  {
   "cell_type": "code",
   "execution_count": 5,
   "metadata": {},
   "outputs": [
    {
     "name": "stdout",
     "output_type": "stream",
     "text": [
      "Decoded .mp3 with: ffmpeg -v 1 -y -i ../audio/electro/01-max_cooper_tom_hodge-symmetry.mp3 C:\\Users\\Admin\\AppData\\Local\\Temp\\b65a0ab4-44ce-4ea5-8758-9042cd5994de.wav\n"
     ]
    }
   ],
   "source": [
    "a = features_extraction_accompaniment('../audio/electro/01-max_cooper_tom_hodge-symmetry.mp3')"
   ]
  },
  {
   "cell_type": "code",
   "execution_count": 4,
   "metadata": {},
   "outputs": [],
   "source": [
    "def features_extraction_voice(track_path):\n",
    "#     mfccs = librosa.feature.mfcc(wavedata, sr=sr,n_mfcc=26)\n",
    "#     deltas = librosa.feature.delta(mfccs)\n",
    "    wavedata, sr = librosa.load(track_path)\n",
    "    discretization = np.linspace(0, len(wavedata),4,dtype=int)\n",
    "    mfccs = []\n",
    "    deltas = []\n",
    "    for i in range(len(discretization) - 1):\n",
    "        mfccs_tmp = librosa.feature.mfcc(wavedata[discretization[i]:discretization[i+1]], sr=sr,n_mfcc=26)\n",
    "        mfccs.extend(np.median(mfccs_tmp,axis=1)[:12])\n",
    "        deltas.extend(np.median(mfccs_tmp,axis=1)[:12])\n",
    "    return mfccs + deltas\n",
    "    "
   ]
  },
  {
   "cell_type": "code",
   "execution_count": 7,
   "metadata": {},
   "outputs": [],
   "source": [
    "b = features_extraction_voice('../audio/electro/01-max_cooper_tom_hodge-symmetry.mp3')"
   ]
  },
  {
   "cell_type": "code",
   "execution_count": 5,
   "metadata": {
    "collapsed": true
   },
   "outputs": [],
   "source": [
    "def track_preprocessing(track_path):\n",
    "    return features_extraction_accompaniment(track_path) + features_extraction_voice(track_path)"
   ]
  },
  {
   "cell_type": "code",
   "execution_count": 9,
   "metadata": {},
   "outputs": [
    {
     "name": "stdout",
     "output_type": "stream",
     "text": [
      "Decoded .mp3 with: ffmpeg -v 1 -y -i ../audio/electro/01-max_cooper_tom_hodge-symmetry.mp3 C:\\Users\\Admin\\AppData\\Local\\Temp\\9093df8f-0926-4571-a1c2-9e2569158425.wav\n"
     ]
    }
   ],
   "source": [
    "c = track_preprocessing('../audio/electro/01-max_cooper_tom_hodge-symmetry.mp3')"
   ]
  },
  {
   "cell_type": "code",
   "execution_count": 51,
   "metadata": {},
   "outputs": [
    {
     "name": "stdout",
     "output_type": "stream",
     "text": [
      "Decoded .mp3 with: ffmpeg -v 1 -y -i ../audio/classics/01. Lesley Garrett - Caccini Ave Maria.mp3 C:\\Users\\Admin\\AppData\\Local\\Temp\\dccf4f2b-5587-4471-ac18-9b3e0175ffe3.wav\n",
      "Decoded .mp3 with: ffmpeg -v 1 -y -i ../audio/classics/01. Russell Watson - Volare.mp3 C:\\Users\\Admin\\AppData\\Local\\Temp\\326aa360-e422-4e3b-82d2-ebf979955cdd.wav\n",
      "Decoded .mp3 with: ffmpeg -v 1 -y -i ../audio/classics/02. Charlotte Church - Panis Angelicus.mp3 C:\\Users\\Admin\\AppData\\Local\\Temp\\eb1498af-efa0-40be-ba1d-c07ed77a3f3f.wav\n",
      "Decoded .mp3 with: ffmpeg -v 1 -y -i ../audio/classics/02. Russell Watson - Mattinata.mp3 C:\\Users\\Admin\\AppData\\Local\\Temp\\4c920075-17d5-48c4-b232-b7e13843319c.wav\n",
      "Decoded .mp3 with: ffmpeg -v 1 -y -i ../audio/classics/03. Angela Gheorghiu - Ebben ...Ne andro lontana (La Wally).mp3 C:\\Users\\Admin\\AppData\\Local\\Temp\\05e2d183-9bf1-4e56-bbf3-4a44742e6658.wav\n",
      "Decoded .mp3 with: ffmpeg -v 1 -y -i ../audio/classics/03. Bond - Viva!.mp3 C:\\Users\\Admin\\AppData\\Local\\Temp\\5d0dfff0-1af2-45a7-9f1c-9d72d4b29e6f.wav\n",
      "Decoded .mp3 with: ffmpeg -v 1 -y -i ../audio/classics/04. Bryn Terfel - Where'er You Walk.mp3 C:\\Users\\Admin\\AppData\\Local\\Temp\\0c7fde18-5e98-406d-a4da-059c84e74511.wav\n",
      "Decoded .mp3 with: ffmpeg -v 1 -y -i ../audio/classics/04. Hans Zimmer - Now We Are Free (Gladiator).mp3 C:\\Users\\Admin\\AppData\\Local\\Temp\\0c1a5e9a-4a6a-466b-a13b-69e39add93f4.wav\n",
      "Decoded .mp3 with: ffmpeg -v 1 -y -i ../audio/classics/05. Kennedy - Meditation from Thais.mp3 C:\\Users\\Admin\\AppData\\Local\\Temp\\1ba3e268-0b09-4f7e-82c9-fb7ad7b6e77c.wav\n",
      "Decoded .mp3 with: ffmpeg -v 1 -y -i ../audio/classics/05. Maria Callas - Suicidio! In questi fieri momenti.mp3 C:\\Users\\Admin\\AppData\\Local\\Temp\\ad3c9d1d-eefb-4675-836a-9692b9928714.wav\n",
      "Decoded .mp3 with: ffmpeg -v 1 -y -i ../audio/classics/06. Bryn Terfel - Something Wonderful (The King &I).mp3 C:\\Users\\Admin\\AppData\\Local\\Temp\\0dc2d3b8-eb75-4c10-9f6e-ffc8af7b110e.wav\n",
      "Decoded .mp3 with: ffmpeg -v 1 -y -i ../audio/classics/06. Filippa Giordano - Fratello sole, sorella luna.mp3 C:\\Users\\Admin\\AppData\\Local\\Temp\\c384dcd4-dce0-4226-b2f8-0782a8d182aa.wav\n",
      "Decoded .mp3 with: ffmpeg -v 1 -y -i ../audio/classics/07. Kennedy - The Unknown Soldier.mp3 C:\\Users\\Admin\\AppData\\Local\\Temp\\1710bb16-b80d-426d-9210-d6065b358d17.wav\n",
      "Decoded .mp3 with: ffmpeg -v 1 -y -i ../audio/classics/07. Placido Domingo - Verdi Di quella pira.mp3 C:\\Users\\Admin\\AppData\\Local\\Temp\\c7661e5b-1a05-4eb9-a34f-e4d32b6780a6.wav\n",
      "Decoded .mp3 with: ffmpeg -v 1 -y -i ../audio/classics/08. John Barry - The Quarry (Enigma).mp3 C:\\Users\\Admin\\AppData\\Local\\Temp\\54f82e44-c849-45ed-a13f-c97ebc9c888f.wav\n",
      "Decoded .mp3 with: ffmpeg -v 1 -y -i ../audio/classics/08. Luciano Pavarotti - Ai giochi addio (Our Tune).mp3 C:\\Users\\Admin\\AppData\\Local\\Temp\\ffa64274-ecf8-46e4-806a-9ba76bb5ab2d.wav\n",
      "Decoded .mp3 with: ffmpeg -v 1 -y -i ../audio/classics/09. Renee Fleming - O mio babbino caro.mp3 C:\\Users\\Admin\\AppData\\Local\\Temp\\d7ff122c-0f00-4a5a-b71e-4c58df949ca3.wav\n",
      "Decoded .mp3 with: ffmpeg -v 1 -y -i ../audio/classics/09. Sarah Brightman - Time To Say Goodbye (Con Te Partiro).mp3 C:\\Users\\Admin\\AppData\\Local\\Temp\\c9688e1c-b878-4ce9-ac6e-f4eec1fead0f.wav\n",
      "Decoded .mp3 with: ffmpeg -v 1 -y -i ../audio/classics/10. Tan Dun - Eternal Vow (Crouching Tiger, Hidden Dragon).mp3 C:\\Users\\Admin\\AppData\\Local\\Temp\\eeb5ce6b-4539-4a14-961e-bf719ad9981f.wav\n",
      "Decoded .mp3 with: ffmpeg -v 1 -y -i ../audio/classics/10. The Three Tenors - Nessun dorma.mp3 C:\\Users\\Admin\\AppData\\Local\\Temp\\6323530d-fdbc-4d3e-aa8a-b9a461183eff.wav\n",
      "Decoded .mp3 with: ffmpeg -v 1 -y -i ../audio/classics/11. Julian Lloyd Webber - Variations.mp3 C:\\Users\\Admin\\AppData\\Local\\Temp\\2e4c5e31-53b5-4970-b3b5-bf9404fe526b.wav\n",
      "Decoded .mp3 with: ffmpeg -v 1 -y -i ../audio/classics/11. Nana Mouskouri - Bizet Habanera.mp3 C:\\Users\\Admin\\AppData\\Local\\Temp\\cd233f1d-c4be-4f22-9098-68827160c387.wav\n",
      "Decoded .mp3 with: ffmpeg -v 1 -y -i ../audio/classics/12. Andreas School - I am a poor wayfaring stranger.mp3 C:\\Users\\Admin\\AppData\\Local\\Temp\\898c124f-6c10-45aa-a361-10d5d07a9f58.wav\n",
      "Decoded .mp3 with: ffmpeg -v 1 -y -i ../audio/classics/12. Stephen Warbeck - Pelagia's Song (From Captain Corelli's Mandolin).mp3 C:\\Users\\Admin\\AppData\\Local\\Temp\\096bd23a-cc0b-4372-8527-87f2d07663ba.wav\n",
      "Decoded .mp3 with: ffmpeg -v 1 -y -i ../audio/classics/13. Luciano Pavarotti - O sole mio.mp3 C:\\Users\\Admin\\AppData\\Local\\Temp\\437ee854-bb7e-44dc-82b4-a2109634b904.wav\n",
      "Decoded .mp3 with: ffmpeg -v 1 -y -i ../audio/classics/13. The Nuns Of The Priory Of The Resurrection - Sanctus.mp3 C:\\Users\\Admin\\AppData\\Local\\Temp\\034b2519-c374-4a69-bc1a-b53133e5bf27.wav\n",
      "Decoded .mp3 with: ffmpeg -v 1 -y -i ../audio/classics/14. Anne Sofie Von OtterElvisCostello - Baby Plays Around.mp3 C:\\Users\\Admin\\AppData\\Local\\Temp\\729364d7-6134-4e6f-bc6d-0744228d8c25.wav\n",
      "Decoded .mp3 with: ffmpeg -v 1 -y -i ../audio/classics/14. Kiri Te Kanawa - BachGounod Ave Maria.mp3 C:\\Users\\Admin\\AppData\\Local\\Temp\\a1281e12-c4d7-44b2-bc42-d6a9e5fe0677.wav\n",
      "Decoded .mp3 with: ffmpeg -v 1 -y -i ../audio/classics/15. Harry Secombe - If I Ruled the World.mp3 C:\\Users\\Admin\\AppData\\Local\\Temp\\17b51822-c8fd-447f-b568-1f8815cc984d.wav\n",
      "Decoded .mp3 with: ffmpeg -v 1 -y -i ../audio/classics/15. John Barry - Crazy Dog.mp3 C:\\Users\\Admin\\AppData\\Local\\Temp\\0f24f93b-0162-411f-85df-2918d6dc626e.wav\n",
      "Decoded .mp3 with: ffmpeg -v 1 -y -i ../audio/classics/16. Choir Of New College Oxford - The Blue Bird.mp3 C:\\Users\\Admin\\AppData\\Local\\Temp\\d78950ae-715a-4fee-ba4c-0f7a9d938816.wav\n",
      "Decoded .mp3 with: ffmpeg -v 1 -y -i ../audio/classics/16. Yo-Yo Ma - Appalachia Waltz.mp3 C:\\Users\\Admin\\AppData\\Local\\Temp\\f33db700-17b2-414d-be84-0b58adad695f.wav\n",
      "Decoded .mp3 with: ffmpeg -v 1 -y -i ../audio/classics/17. Libera - Sanctus II.mp3 C:\\Users\\Admin\\AppData\\Local\\Temp\\3e72f11e-fc43-4a2f-83a2-69088344a753.wav\n",
      "Decoded .mp3 with: ffmpeg -v 1 -y -i ../audio/classics/17. Magdalena Kozena - Janacek Laska (Love).mp3 C:\\Users\\Admin\\AppData\\Local\\Temp\\f7342eda-7db7-48c8-91e1-16649e196ee8.wav\n",
      "Decoded .mp3 with: ffmpeg -v 1 -y -i ../audio/classics/18. Chloe - Mussorgsky Gopak from Sorochinsky Fair.mp3 C:\\Users\\Admin\\AppData\\Local\\Temp\\c84f4111-b727-43fc-8dfc-e65e12cf6269.wav\n",
      "Decoded .mp3 with: ffmpeg -v 1 -y -i ../audio/classics/18. Mischa Maisky - L'Heure exquise (Virgin One ad).mp3 C:\\Users\\Admin\\AppData\\Local\\Temp\\09d6ae11-a725-4681-8ae2-89097dbf14a6.wav\n",
      "Decoded .mp3 with: ffmpeg -v 1 -y -i ../audio/classics/19. Chloe - Paganini La Campanella.mp3 C:\\Users\\Admin\\AppData\\Local\\Temp\\08d5976a-cb12-4175-9b85-cc741856663c.wav\n",
      "Decoded .mp3 with: ffmpeg -v 1 -y -i ../audio/classics/19. Marcelo Alvarez - La donna e mobile.mp3 C:\\Users\\Admin\\AppData\\Local\\Temp\\a0ae6594-10f5-468e-a4f6-eb20f6de7505.wav\n",
      "Decoded .mp3 with: ffmpeg -v 1 -y -i ../audio/classics/20. Arcadi Volodos - Bizet Carmen Variations.mp3 C:\\Users\\Admin\\AppData\\Local\\Temp\\0bf1c39e-fb57-4b50-9fd4-ff1243c54791.wav\n",
      "Decoded .mp3 with: ffmpeg -v 1 -y -i ../audio/classics/20. Joshua Bell - Bernstein Maria (West Side Story).mp3 C:\\Users\\Admin\\AppData\\Local\\Temp\\30db6a96-1796-4eef-aafe-51187d70ee7a.wav\n",
      "Decoded .mp3 with: ffmpeg -v 1 -y -i ../audio/classics/21. Cantamus - Aurora.mp3 C:\\Users\\Admin\\AppData\\Local\\Temp\\4703b1c2-e060-4130-a06d-639d5cfafd19.wav\n",
      "Decoded .mp3 with: ffmpeg -v 1 -y -i ../audio/electro/01-max_cooper_tom_hodge-symmetry.mp3 C:\\Users\\Admin\\AppData\\Local\\Temp\\d655696c-9871-4e0a-85ee-648c8aad7757.wav\n",
      "Decoded .mp3 with: ffmpeg -v 1 -y -i ../audio/electro/02-max_cooper_feat_kathrin_deboer-seed.mp3 C:\\Users\\Admin\\AppData\\Local\\Temp\\cb944a92-3482-45a8-9c83-e89f5d81fd61.wav\n",
      "Decoded .mp3 with: ffmpeg -v 1 -y -i ../audio/electro/03-max_cooper-waves.mp3 C:\\Users\\Admin\\AppData\\Local\\Temp\\ee71be4b-1166-434f-99be-3097c5897bf6.wav\n",
      "Decoded .mp3 with: ffmpeg -v 1 -y -i ../audio/electro/04-max_cooper-distant_light.mp3 C:\\Users\\Admin\\AppData\\Local\\Temp\\88b29c13-a0cb-4a05-b5b7-edb8fc904ea2.wav\n",
      "Decoded .mp3 with: ffmpeg -v 1 -y -i ../audio/electro/05-max_cooper_tom_hodge-myth.mp3 C:\\Users\\Admin\\AppData\\Local\\Temp\\b63cb36c-950d-4d80-ad5b-65e3140d4f30.wav\n",
      "Decoded .mp3 with: ffmpeg -v 1 -y -i ../audio/electro/06-max_cooper-order_from_chaos.mp3 C:\\Users\\Admin\\AppData\\Local\\Temp\\c389ca25-fb57-43d8-9844-4023b1eb6df9.wav\n",
      "Decoded .mp3 with: ffmpeg -v 1 -y -i ../audio/electro/07-max_cooper-cyclic.mp3 C:\\Users\\Admin\\AppData\\Local\\Temp\\a1340044-4852-48c5-9719-55a845ec9614.wav\n",
      "Decoded .mp3 with: ffmpeg -v 1 -y -i ../audio/electro/08-max_cooper_feat_kathrin_deboer-impermanence.mp3 C:\\Users\\Admin\\AppData\\Local\\Temp\\07f2dc79-1e98-44e0-a24d-de4187736679.wav\n",
      "Decoded .mp3 with: ffmpeg -v 1 -y -i ../audio/electro/09-max_cooper_tom_hodge_feat_kathrin_deboer-trust.mp3 C:\\Users\\Admin\\AppData\\Local\\Temp\\2b3c575f-88e4-43c5-8da5-0241761b3061.wav\n",
      "Decoded .mp3 with: ffmpeg -v 1 -y -i ../audio/electro/10-max_cooper-organa.mp3 C:\\Users\\Admin\\AppData\\Local\\Temp\\3f186127-d6c3-434a-a0ad-d7ac2cf44346.wav\n",
      "Decoded .mp3 with: ffmpeg -v 1 -y -i ../audio/electro/11-max_cooper-unbounded.mp3 C:\\Users\\Admin\\AppData\\Local\\Temp\\b23d26b1-602a-4bdf-85e7-9e6ba486d229.wav\n",
      "Decoded .mp3 with: ffmpeg -v 1 -y -i ../audio/metal/01. Traitors Never Play Hang-Man.mp3 C:\\Users\\Admin\\AppData\\Local\\Temp\\30abcb81-618e-443d-9b3c-1897e69217e8.wav\n",
      "Decoded .mp3 with: ffmpeg -v 1 -y -i ../audio/metal/02. Pray For Plagues.mp3 C:\\Users\\Admin\\AppData\\Local\\Temp\\a8c6216c-a81c-40ce-9d7e-c4ba25cf5675.wav\n",
      "Decoded .mp3 with: ffmpeg -v 1 -y -i ../audio/metal/03. Diamonds Aren't Forever.mp3 C:\\Users\\Admin\\AppData\\Local\\Temp\\7a935ba0-3d1b-4ef7-8779-c3a196e59926.wav\n",
      "Decoded .mp3 with: ffmpeg -v 1 -y -i ../audio/metal/04. The Sadness Will Never End (Feat. Sam Carter).mp3 C:\\Users\\Admin\\AppData\\Local\\Temp\\644e6474-3aee-47ad-bbb2-6ae06f7db759.wav\n",
      "Decoded .mp3 with: ffmpeg -v 1 -y -i ../audio/metal/05. Chelsea Smile.mp3 C:\\Users\\Admin\\AppData\\Local\\Temp\\81d84e3d-e763-41e2-966a-0ce2484bf162.wav\n",
      "Decoded .mp3 with: ffmpeg -v 1 -y -i ../audio/metal/06. The Comedown.mp3 C:\\Users\\Admin\\AppData\\Local\\Temp\\1b6fe257-0f91-4879-b6e8-394c96b82816.wav\n",
      "Decoded .mp3 with: ffmpeg -v 1 -y -i ../audio/metal/07. Blessed With A Curse.mp3 C:\\Users\\Admin\\AppData\\Local\\Temp\\5878b8e4-8f44-4c9d-b8ac-4900ae84ada6.wav\n",
      "Decoded .mp3 with: ffmpeg -v 1 -y -i ../audio/metal/08. It Never Ends.mp3 C:\\Users\\Admin\\AppData\\Local\\Temp\\51299d23-18c5-43c7-b448-5a68cc99dca1.wav\n",
      "Decoded .mp3 with: ffmpeg -v 1 -y -i ../audio/metal/09. Don't Go (Feat. Lights).mp3 C:\\Users\\Admin\\AppData\\Local\\Temp\\97687f35-0520-4629-a5e2-52468cf9f303.wav\n",
      "Decoded .mp3 with: ffmpeg -v 1 -y -i ../audio/metal/10. Crucify Me (Feat. Lights).mp3 C:\\Users\\Admin\\AppData\\Local\\Temp\\5564339a-c2e1-449e-a9a3-dd1372d66e28.wav\n",
      "Decoded .mp3 with: ffmpeg -v 1 -y -i ../audio/metal/11. Shadow Moses.mp3 C:\\Users\\Admin\\AppData\\Local\\Temp\\220d5cb4-bd65-4339-8124-7db6c4df0741.wav\n",
      "Decoded .mp3 with: ffmpeg -v 1 -y -i ../audio/metal/12. Go To Hell, For Heaven's Sake.mp3 C:\\Users\\Admin\\AppData\\Local\\Temp\\993b775a-e0be-4abd-a068-7d3e966a25b1.wav\n",
      "Decoded .mp3 with: ffmpeg -v 1 -y -i ../audio/metal/13. Can You Feel My Heart.mp3 C:\\Users\\Admin\\AppData\\Local\\Temp\\8023f565-2a0e-4d8f-8528-ed2de3929d34.wav\n",
      "Decoded .mp3 with: ffmpeg -v 1 -y -i ../audio/metal/14. Sleepwalking.mp3 C:\\Users\\Admin\\AppData\\Local\\Temp\\f82a973a-9f61-4ad6-96bb-39a25bd096cb.wav\n",
      "Decoded .mp3 with: ffmpeg -v 1 -y -i ../audio/metal/15. Antivist.mp3 C:\\Users\\Admin\\AppData\\Local\\Temp\\1cd84942-8fce-483a-81a6-22b18cff141c.wav\n",
      "Decoded .mp3 with: ffmpeg -v 1 -y -i ../audio/other/morricone_30s.mp3 C:\\Users\\Admin\\AppData\\Local\\Temp\\bcc0fc81-289a-4339-bf2d-fee84bb7e400.wav\n",
      "Decoded .mp3 with: ffmpeg -v 1 -y -i ../audio/other/morricone_full.mp3 C:\\Users\\Admin\\AppData\\Local\\Temp\\3020e5da-8cf7-4264-b286-60435608a78a.wav\n",
      "Decoded .mp3 with: ffmpeg -v 1 -y -i ../audio/pop/01 - Paper Gods.mp3 C:\\Users\\Admin\\AppData\\Local\\Temp\\5e13d97e-956e-4440-b967-4d02bb99d6ac.wav\n",
      "Decoded .mp3 with: ffmpeg -v 1 -y -i ../audio/pop/02 - Last Night In The City.mp3 C:\\Users\\Admin\\AppData\\Local\\Temp\\137f89af-1ef1-4ef2-9eb9-01347f281ca7.wav\n",
      "Decoded .mp3 with: ffmpeg -v 1 -y -i ../audio/pop/03 - You Kill Me with Sirence.mp3 C:\\Users\\Admin\\AppData\\Local\\Temp\\ca494ff1-aaa5-4dc2-ad23-cc1020220d11.wav\n",
      "Decoded .mp3 with: ffmpeg -v 1 -y -i ../audio/pop/04 - Pressure Off.mp3 C:\\Users\\Admin\\AppData\\Local\\Temp\\2fef62f7-53b5-4e48-b7be-eb67a93537fe.wav\n",
      "Decoded .mp3 with: ffmpeg -v 1 -y -i ../audio/pop/05 - Face For Today.mp3 C:\\Users\\Admin\\AppData\\Local\\Temp\\402493e3-ebb3-4de1-9ab6-1f98304a6290.wav\n",
      "Decoded .mp3 with: ffmpeg -v 1 -y -i ../audio/pop/06 - Danceophobia.mp3 C:\\Users\\Admin\\AppData\\Local\\Temp\\10e648c6-5859-4ab1-806b-c752b470ddc6.wav\n",
      "Decoded .mp3 with: ffmpeg -v 1 -y -i ../audio/pop/07 - What Are The Chances.mp3 C:\\Users\\Admin\\AppData\\Local\\Temp\\3ef3b0fb-d28c-43fd-affd-d7d23e4a75bf.wav\n",
      "Decoded .mp3 with: ffmpeg -v 1 -y -i ../audio/pop/08 - Sunset Garage.mp3 C:\\Users\\Admin\\AppData\\Local\\Temp\\de570e8e-3e27-4983-b59c-dabcf5260a09.wav\n",
      "Decoded .mp3 with: ffmpeg -v 1 -y -i ../audio/pop/09 - Change The Skyline.mp3 C:\\Users\\Admin\\AppData\\Local\\Temp\\6b595834-3fe5-4a2f-a263-686a97eef5d4.wav\n",
      "Decoded .mp3 with: ffmpeg -v 1 -y -i ../audio/pop/10 - Butterfly Girl.mp3 C:\\Users\\Admin\\AppData\\Local\\Temp\\f4fb70f7-a55b-4a9b-8c56-d7a707118bbe.wav\n",
      "Decoded .mp3 with: ffmpeg -v 1 -y -i ../audio/pop/11 - Only In Dreams.mp3 C:\\Users\\Admin\\AppData\\Local\\Temp\\f11b1c76-bf8d-486a-9fa2-945da2b3b37f.wav\n",
      "Decoded .mp3 with: ffmpeg -v 1 -y -i ../audio/pop/12 - The Universe Alone.mp3 C:\\Users\\Admin\\AppData\\Local\\Temp\\25c3bd24-1f0b-482c-87f2-959650d1eb50.wav\n",
      "Decoded .mp3 with: ffmpeg -v 1 -y -i ../audio/pop/13 - Planet Roaring.mp3 C:\\Users\\Admin\\AppData\\Local\\Temp\\6d0c8a3e-c42f-45b8-849c-779aaa7c8a23.wav\n",
      "Decoded .mp3 with: ffmpeg -v 1 -y -i ../audio/pop/14 - On Evil Beach.mp3 C:\\Users\\Admin\\AppData\\Local\\Temp\\e4dd2737-c0e4-4ea0-83d7-1bd0e4d5bf77.wav\n",
      "Decoded .mp3 with: ffmpeg -v 1 -y -i ../audio/pop/15 - Valentine Stones.mp3 C:\\Users\\Admin\\AppData\\Local\\Temp\\e7269d51-809a-4334-a813-6ccad1232c11.wav\n",
      "Decoded .mp3 with: ffmpeg -v 1 -y -i ../audio/pop/16 - Northern Lights.mp3 C:\\Users\\Admin\\AppData\\Local\\Temp\\8ef27ae9-0e65-4d55-95cb-6dc0ba0ec4b8.wav\n",
      "Decoded .mp3 with: ffmpeg -v 1 -y -i ../audio/rap/01. First Things First.mp3 C:\\Users\\Admin\\AppData\\Local\\Temp\\b656b74d-b0b1-489b-9339-587c5cf7d435.wav\n",
      "Decoded .mp3 with: ffmpeg -v 1 -y -i ../audio/rap/02. Cold.mp3 C:\\Users\\Admin\\AppData\\Local\\Temp\\f8dce7fa-8280-406d-8bbb-5e2058e57d9e.wav\n",
      "Decoded .mp3 with: ffmpeg -v 1 -y -i ../audio/rap/03. Bad Boys (feat. Ghetts and J Hus).mp3 C:\\Users\\Admin\\AppData\\Local\\Temp\\b7c49158-5726-456a-9162-d1f26213f269.wav\n",
      "Decoded .mp3 with: ffmpeg -v 1 -y -i ../audio/rap/04. Blinded By Your Grace, Pt. 1.mp3 C:\\Users\\Admin\\AppData\\Local\\Temp\\8acb494f-7792-491f-9cae-0a1ad4c63963.wav\n",
      "Decoded .mp3 with: ffmpeg -v 1 -y -i ../audio/rap/05. Big For Your Boots.mp3 C:\\Users\\Admin\\AppData\\Local\\Temp\\d86a2bcb-b086-4c72-86a5-4353bb2f81fa.wav\n",
      "Decoded .mp3 with: ffmpeg -v 1 -y -i ../audio/rap/06. Velvet _ Jenny Francis (Interlude).mp3 C:\\Users\\Admin\\AppData\\Local\\Temp\\0c9f96dc-ecc7-4a23-9d98-537a7fc42971.wav\n",
      "Decoded .mp3 with: ffmpeg -v 1 -y -i ../audio/rap/07. Mr Skeng.mp3 C:\\Users\\Admin\\AppData\\Local\\Temp\\8df95eb5-96d0-4c73-8a75-f8487f7cb531.wav\n",
      "Decoded .mp3 with: ffmpeg -v 1 -y -i ../audio/rap/08. Cigarettes & Cush (feat. Kehlani).mp3 C:\\Users\\Admin\\AppData\\Local\\Temp\\ddf50f5d-6ddd-4318-b07e-9d2e2ee0ae5c.wav\n",
      "Decoded .mp3 with: ffmpeg -v 1 -y -i ../audio/rap/09. 21 Gun Salute (feat. Wretch 32) (Interlude).mp3 C:\\Users\\Admin\\AppData\\Local\\Temp\\b0313db9-6de7-4916-a786-e2459e6595c6.wav\n",
      "Decoded .mp3 with: ffmpeg -v 1 -y -i ../audio/rap/10. Blinded By Your Grace, Pt. 2 (feat. MNEK).mp3 C:\\Users\\Admin\\AppData\\Local\\Temp\\0170f3db-7104-44e8-9a00-ddc310b55702.wav\n",
      "Decoded .mp3 with: ffmpeg -v 1 -y -i ../audio/rap/11. Return Of The Rucksack.mp3 C:\\Users\\Admin\\AppData\\Local\\Temp\\e3230f7a-4cbd-48eb-8ed4-6d49545ec386.wav\n",
      "Decoded .mp3 with: ffmpeg -v 1 -y -i ../audio/rap/12. 100 Bags.mp3 C:\\Users\\Admin\\AppData\\Local\\Temp\\cfbb276b-c983-48a4-a8ba-4d44ec573bd1.wav\n",
      "Decoded .mp3 with: ffmpeg -v 1 -y -i ../audio/rap/13. Don't Cry For Me (feat. Raleigh Ritchie).mp3 C:\\Users\\Admin\\AppData\\Local\\Temp\\8f18258f-b3b4-4572-9098-38520f66748e.wav\n",
      "Decoded .mp3 with: ffmpeg -v 1 -y -i ../audio/rap/14. Crazy Titch (Interlude).mp3 C:\\Users\\Admin\\AppData\\Local\\Temp\\3b092f0e-df56-4c2f-acc1-86aabed33f4c.wav\n",
      "Decoded .mp3 with: ffmpeg -v 1 -y -i ../audio/rap/15. Shut Up.mp3 C:\\Users\\Admin\\AppData\\Local\\Temp\\902d0d20-e3eb-4b2d-9eee-fc3b84414175.wav\n",
      "Decoded .mp3 with: ffmpeg -v 1 -y -i ../audio/rap/16. Lay Me Bare.mp3 C:\\Users\\Admin\\AppData\\Local\\Temp\\0bde1fb6-ef9c-45ed-8d56-b520a6fd22a6.wav\n"
     ]
    }
   ],
   "source": [
    "# calculating distance between tracks\n",
    "for i in os.listdir('../audio/')[1:]:\n",
    "    for j in os.listdir('../audio/'+i+'/')[1:]:\n",
    "        tmp = track_preprocessing('../audio/'+i+'/'+j)\n",
    "        pd.DataFrame(tmp).to_csv('features_final/'+j[:-4]+'.csv',header=None,index=None)\n",
    "        "
   ]
  },
  {
   "cell_type": "code",
   "execution_count": 65,
   "metadata": {},
   "outputs": [],
   "source": [
    "d = {}\n",
    "for file in os.listdir('features_final/'):\n",
    "    d[file] = pd.read_csv('features_final/'+file,header=None)[0].values"
   ]
  },
  {
   "cell_type": "code",
   "execution_count": 69,
   "metadata": {},
   "outputs": [],
   "source": [
    "distances = pd.DataFrame(columns=d.keys(),index=d.keys())"
   ]
  },
  {
   "cell_type": "code",
   "execution_count": 73,
   "metadata": {},
   "outputs": [],
   "source": [
    "for basic_track in d:\n",
    "    for compared_track in d:\n",
    "        distances.loc[basic_track,compared_track] = scipy.spatial.distance.cosine(d[basic_track],d[compared_track])"
   ]
  },
  {
   "cell_type": "code",
   "execution_count": 75,
   "metadata": {},
   "outputs": [],
   "source": [
    "distances.to_excel('tracks_similarity_matrix.xlsx')"
   ]
  },
  {
   "cell_type": "code",
   "execution_count": 84,
   "metadata": {},
   "outputs": [],
   "source": [
    "recommendations = {}\n",
    "for col in distances.columns:\n",
    "    recommendations[col] = distances[col].sort_values()[:20].index"
   ]
  },
  {
   "cell_type": "code",
   "execution_count": 88,
   "metadata": {},
   "outputs": [],
   "source": [
    "pd.DataFrame(recommendations).to_excel('recommendations_for_tracks.xlsx',index=None)"
   ]
  },
  {
   "cell_type": "code",
   "execution_count": 6,
   "metadata": {
    "collapsed": true
   },
   "outputs": [],
   "source": [
    "def recommendation_for_new_track(tracks_path):\n",
    "    tp = track_preprocessing(tracks_path)\n",
    "    d = {}\n",
    "    for file in os.listdir('features_final/'):\n",
    "        d[file] = pd.read_csv('features_final/'+file,header=None)[0].values\n",
    "    dist = pd.DataFrame(columns=['dist'],index=d.keys())\n",
    "    for col in d.keys():\n",
    "        dist.loc[col,'dist'] = scipy.spatial.distance.cosine(d[col],tp)\n",
    "    return dist['dist'].sort_values()[:20].index"
   ]
  },
  {
   "cell_type": "code",
   "execution_count": 8,
   "metadata": {},
   "outputs": [
    {
     "name": "stdout",
     "output_type": "stream",
     "text": [
      "Decoded .mp3 with: ffmpeg -v 1 -y -i ../audio/electro/01-max_cooper_tom_hodge-symmetry.mp3 C:\\Users\\Admin\\AppData\\Local\\Temp\\6b3f7031-e37a-4fa8-b896-971985f06235.wav\n"
     ]
    },
    {
     "data": {
      "text/plain": [
       "Index(['01-max_cooper_tom_hodge-symmetry.csv',\n",
       "       '10. Crucify Me (Feat. Lights).csv', '05. Chelsea Smile.csv',\n",
       "       '06. The Comedown.csv',\n",
       "       '04. The Sadness Will Never End (Feat. Sam Carter).csv',\n",
       "       '02. Pray For Plagues.csv', '03 - You Kill Me with Sirence.csv',\n",
       "       '01. Traitors Never Play Hang-Man.csv', '11 - Only In Dreams.csv',\n",
       "       '16 - Northern Lights.csv', '03. Diamonds Aren't Forever.csv',\n",
       "       '08. It Never Ends.csv', '07. Blessed With A Curse.csv',\n",
       "       '05 - Face For Today.csv', '09 - Change The Skyline.csv',\n",
       "       '02 - Last Night In The City.csv', '06-max_cooper-order_from_chaos.csv',\n",
       "       '10 - Butterfly Girl.csv',\n",
       "       '04. Hans Zimmer - Now We Are Free (Gladiator).csv',\n",
       "       '13 - Planet Roaring.csv'],\n",
       "      dtype='object')"
      ]
     },
     "execution_count": 8,
     "metadata": {},
     "output_type": "execute_result"
    }
   ],
   "source": [
    "recommendation_for_new_track('../audio/electro/01-max_cooper_tom_hodge-symmetry.mp3')"
   ]
  },
  {
   "cell_type": "code",
   "execution_count": null,
   "metadata": {
    "collapsed": true
   },
   "outputs": [],
   "source": []
  }
 ],
 "metadata": {
  "kernelspec": {
   "display_name": "Python 3",
   "language": "python",
   "name": "python3"
  },
  "language_info": {
   "codemirror_mode": {
    "name": "ipython",
    "version": 3
   },
   "file_extension": ".py",
   "mimetype": "text/x-python",
   "name": "python",
   "nbconvert_exporter": "python",
   "pygments_lexer": "ipython3",
   "version": "3.6.3"
  }
 },
 "nbformat": 4,
 "nbformat_minor": 2
}
