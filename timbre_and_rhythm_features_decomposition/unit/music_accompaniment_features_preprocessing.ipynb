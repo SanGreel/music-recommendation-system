{
 "cells": [
  {
   "cell_type": "code",
   "execution_count": 1,
   "metadata": {},
   "outputs": [
    {
     "name": "stdout",
     "output_type": "stream",
     "text": [
      "Populating the interactive namespace from numpy and matplotlib\n"
     ]
    }
   ],
   "source": [
    "%pylab inline\n",
    "import warnings\n",
    "warnings.filterwarnings('ignore')\n",
    "import numpy as np\n",
    "import matplotlib.pyplot as plt\n",
    "from audiofile_read import *  \n",
    "from rp_extract import rp_extract\n",
    "#from rp_plot import *  \n",
    "import librosa\n",
    "import os\n",
    "import pandas as pd\n",
    "import scipy"
   ]
  },
  {
   "cell_type": "code",
   "execution_count": 2,
   "metadata": {},
   "outputs": [],
   "source": [
    "def features_extraction_accompaniment(track_path):\n",
    "    # adapt the fext array to your needs:\n",
    "    fext = ['rp','ssd','rh','mvd'] # sh, tssd, trh\n",
    "    samplerate, samplewidth, wavedata = audiofile_read(track_path, normalize=False)\n",
    "    features = rp_extract(wavedata,\n",
    "                      samplerate,\n",
    "                      extract_rp   = ('rp' in fext),          # extract Rhythm Patterns features\n",
    "                      extract_ssd  = ('ssd' in fext),           # extract Statistical Spectrum Descriptor\n",
    "                      #extract_sh   = ('sh' in fext),          # extract Statistical Histograms\n",
    "                      extract_tssd = ('tssd' in fext),          # extract temporal Statistical Spectrum Descriptor\n",
    "                      extract_rh   = ('rh' in fext),           # extract Rhythm Histogram features\n",
    "                      extract_trh  = ('trh' in fext),          # extract temporal Rhythm Histogram features\n",
    "                      extract_mvd  = ('mvd' in fext),        # extract Modulation Frequency Variance Descriptor\n",
    "                      spectral_masking=True,\n",
    "                      transform_db=True,\n",
    "                      transform_phon=True,\n",
    "                      transform_sone=True,\n",
    "                      fluctuation_strength_weighting=True,\n",
    "                      skip_leadin_fadeout=1,\n",
    "                      step_width=1)\n",
    "    res = []\n",
    "    for key in fext:\n",
    "        res.extend(features[key])\n",
    "    return res"
   ]
  },
  {
   "cell_type": "code",
   "execution_count": 3,
   "metadata": {},
   "outputs": [],
   "source": [
    "def features_extraction_voice(track_path):\n",
    "#     mfccs = librosa.feature.mfcc(wavedata, sr=sr,n_mfcc=26)\n",
    "#     deltas = librosa.feature.delta(mfccs)\n",
    "    wavedata, sr = librosa.load(track_path)\n",
    "    discretization = np.linspace(0, len(wavedata),4,dtype=int)\n",
    "    mfccs = []\n",
    "    deltas = []\n",
    "    for i in range(len(discretization) - 1):\n",
    "        mfccs_tmp = librosa.feature.mfcc(wavedata[discretization[i]:discretization[i+1]], sr=sr,n_mfcc=26)\n",
    "        mfccs.extend(np.median(mfccs_tmp,axis=1)[:12])\n",
    "        deltas.extend(np.median(mfccs_tmp,axis=1)[:12])\n",
    "    return mfccs + deltas\n",
    "    "
   ]
  },
  {
   "cell_type": "code",
   "execution_count": 4,
   "metadata": {},
   "outputs": [],
   "source": [
    "def track_preprocessing(track_path):\n",
    "    return features_extraction_accompaniment(track_path) + features_extraction_voice(track_path)"
   ]
  },
  {
   "cell_type": "code",
   "execution_count": 5,
   "metadata": {},
   "outputs": [],
   "source": [
    "def create_tracks_features_space(audio_foulder_path):\n",
    "    genres = os.listdir('../audio/')\n",
    "    for genre in genres:\n",
    "        tracks = os.listdir('../audio/'+i+'/')\n",
    "        for track in tracks:\n",
    "            tmp = track_preprocessing('../audio/'+genre+'/'+track)\n",
    "            pd.DataFrame(tmp).to_csv('features_final/'+track[:-4]+'.csv',header=None,index=None)\n",
    "        "
   ]
  },
  {
   "cell_type": "code",
   "execution_count": 6,
   "metadata": {},
   "outputs": [],
   "source": [
    "def calculate_distances():\n",
    "    d = {}\n",
    "    del os\n",
    "    import os\n",
    "    for file in os.listdir('features_final/'):\n",
    "        d[file] = pd.read_csv('features_final/'+file,header=None)[0].values\n",
    "    distances = pd.DataFrame(columns=d.keys(),index=d.keys())\n",
    "    for basic_track in d:\n",
    "        for compared_track in d:\n",
    "            distances.loc[basic_track,compared_track] = scipy.spatial.distance.cosine(d[basic_track],d[compared_track])\n",
    "    distances.to_excel('tracks_similarity_matrix.xlsx')"
   ]
  },
  {
   "cell_type": "code",
   "execution_count": 7,
   "metadata": {},
   "outputs": [],
   "source": [
    "def formulate_recommendations():\n",
    "    recommendations = {}\n",
    "    distances = pd.read_excel('tracks_similarity_matrix.xlsx')\n",
    "    for col in distances.columns:\n",
    "        recommendations[col] = distances[col].sort_values()[:20].index\n",
    "    pd.DataFrame(recommendations).to_excel('recommendations_for_tracks.xlsx',index=None)"
   ]
  },
  {
   "cell_type": "code",
   "execution_count": 8,
   "metadata": {},
   "outputs": [],
   "source": [
    "def recommendation_for_new_track(tracks_path):\n",
    "    tp = track_preprocessing(tracks_path)\n",
    "    d = {}\n",
    "    for file in os.listdir('features_final/'):\n",
    "        d[file] = pd.read_csv('features_final/'+file,header=None)[0].values\n",
    "    dist = pd.DataFrame(columns=['dist'],index=d.keys())\n",
    "    for col in d.keys():\n",
    "        dist.loc[col,'dist'] = scipy.spatial.distance.cosine(d[col],tp)\n",
    "    return dist['dist'].sort_values()[:20].index"
   ]
  },
  {
   "cell_type": "code",
   "execution_count": 9,
   "metadata": {},
   "outputs": [],
   "source": [
    "def add_track_in_base(track_path):\n",
    "    tp = track_preprocessing(track_path)\n",
    "    if track_path.split('/')[-1][:-4]+'.csv' not in os.listdir('features_final/'):\n",
    "        pd.DataFrame(tp).to_csv('features_final/'+track_path.split('/')[-1][:-4]+'.csv',header=None,index=None)\n",
    "        calculate_distances()\n",
    "        formulate_recommendations()\n",
    "        print('added')\n",
    "    else:\n",
    "        print('already in db')\n"
   ]
  },
  {
   "cell_type": "code",
   "execution_count": null,
   "metadata": {},
   "outputs": [],
   "source": []
  }
 ],
 "metadata": {
  "kernelspec": {
   "display_name": "Python 3",
   "language": "python",
   "name": "python3"
  },
  "language_info": {
   "codemirror_mode": {
    "name": "ipython",
    "version": 3
   },
   "file_extension": ".py",
   "mimetype": "text/x-python",
   "name": "python",
   "nbconvert_exporter": "python",
   "pygments_lexer": "ipython3",
   "version": "3.6.3"
  }
 },
 "nbformat": 4,
 "nbformat_minor": 2
}
