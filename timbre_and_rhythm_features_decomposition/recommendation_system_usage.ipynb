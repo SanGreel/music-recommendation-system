{
 "cells": [
  {
   "cell_type": "code",
   "execution_count": 1,
   "metadata": {},
   "outputs": [
    {
     "name": "stdout",
     "output_type": "stream",
     "text": [
      "Populating the interactive namespace from numpy and matplotlib\n"
     ]
    }
   ],
   "source": [
    "import sys\n",
    "import os\n",
    "\n",
    "sys.path.append(os.getcwd()+'\\\\unit')\n",
    "from unit.music_accompaniment_features_preprocessing import *"
   ]
  },
  {
   "cell_type": "markdown",
   "metadata": {},
   "source": [
    "### Find simiral track in current database"
   ]
  },
  {
   "cell_type": "code",
   "execution_count": 2,
   "metadata": {},
   "outputs": [],
   "source": [
    "# provide path to the track\n",
    "# example is Ludovico Einaudi – Una Mattina in current dir\n",
    "\n",
    "#running code could take some time because of features calculation\n",
    "\n",
    "recommendation = recommendation_for_new_track('02-max_cooper_feat_kathrin_deboer-seed.mp3')"
   ]
  },
  {
   "cell_type": "code",
   "execution_count": 3,
   "metadata": {
    "scrolled": true
   },
   "outputs": [
    {
     "data": {
      "text/plain": [
       "Index(['02-max_cooper_feat_kathrin_deboer-seed.csv', '03-max_cooper-waves.csv',\n",
       "       '01 - Paper Gods.csv', '10-max_cooper-organa.csv',\n",
       "       '14 - On Evil Beach.csv', '11-max_cooper-unbounded.csv',\n",
       "       '04-max_cooper-distant_light.csv', '07-max_cooper-cyclic.csv',\n",
       "       '08. It Never Ends.csv',\n",
       "       '08-max_cooper_feat_kathrin_deboer-impermanence.csv',\n",
       "       '09. Don't Go (Feat. Lights).csv', '16 - Northern Lights.csv',\n",
       "       '07. Blessed With A Curse.csv', 'morricone_full.csv',\n",
       "       '09 - Change The Skyline.csv', '10. Crucify Me (Feat. Lights).csv',\n",
       "       '06. The Comedown.csv', '05. Chelsea Smile.csv',\n",
       "       '01. Traitors Never Play Hang-Man.csv',\n",
       "       '04. Hans Zimmer - Now We Are Free (Gladiator).csv'],\n",
       "      dtype='object')"
      ]
     },
     "execution_count": 3,
     "metadata": {},
     "output_type": "execute_result"
    }
   ],
   "source": [
    "recommendation"
   ]
  },
  {
   "cell_type": "markdown",
   "metadata": {},
   "source": [
    "### Add track to the current database"
   ]
  },
  {
   "cell_type": "code",
   "execution_count": 3,
   "metadata": {},
   "outputs": [
    {
     "name": "stdout",
     "output_type": "stream",
     "text": [
      "already in db\n"
     ]
    }
   ],
   "source": [
    "add_track_in_base('02-max_cooper_feat_kathrin_deboer-seed.mp3')"
   ]
  },
  {
   "cell_type": "code",
   "execution_count": 5,
   "metadata": {},
   "outputs": [
    {
     "name": "stdout",
     "output_type": "stream",
     "text": [
      "added\n"
     ]
    }
   ],
   "source": [
    "add_track_in_base('Ludovico Einaudi – Una Mattina.mp3')"
   ]
  },
  {
   "cell_type": "markdown",
   "metadata": {},
   "source": [
    "### Database creation from the foulder"
   ]
  },
  {
   "cell_type": "code",
   "execution_count": 2,
   "metadata": {},
   "outputs": [],
   "source": [
    "# as input - path to the foulder with a music\n",
    "\n",
    "create_database_from_foulder('../audio/electro/')"
   ]
  },
  {
   "cell_type": "code",
   "execution_count": 6,
   "metadata": {},
   "outputs": [],
   "source": [
    "recommendation = recommendation_for_new_track('Ludovico Einaudi – Una Mattina.mp3')"
   ]
  },
  {
   "cell_type": "code",
   "execution_count": 7,
   "metadata": {},
   "outputs": [
    {
     "data": {
      "text/plain": [
       "Index(['Ludovico Einaudi – Una Mattina.csv',\n",
       "       '04. Blinded By Your Grace, Pt. 1.csv', '21. Cantamus - Aurora.csv',\n",
       "       '12. Stephen Warbeck - Pelagia's Song (From Captain Corelli's Mandolin).csv',\n",
       "       '05-max_cooper_tom_hodge-myth.csv',\n",
       "       '16. Yo-Yo Ma - Appalachia Waltz.csv',\n",
       "       '18. Chloe - Mussorgsky Gopak from Sorochinsky Fair.csv',\n",
       "       '20. Joshua Bell - Bernstein Maria (West Side Story).csv',\n",
       "       '14. Anne Sofie Von OtterElvisCostello - Baby Plays Around.csv',\n",
       "       '15. John Barry - Crazy Dog.csv',\n",
       "       '09. Sarah Brightman - Time To Say Goodbye (Con Te Partiro).csv',\n",
       "       '20. Arcadi Volodos - Bizet Carmen Variations.csv',\n",
       "       '10. Tan Dun - Eternal Vow (Crouching Tiger, Hidden Dragon).csv',\n",
       "       '05. Kennedy - Meditation from Thais.csv',\n",
       "       '11. Julian Lloyd Webber - Variations.csv',\n",
       "       '08. John Barry - The Quarry (Enigma).csv',\n",
       "       '19. Chloe - Paganini La Campanella.csv',\n",
       "       '18. Mischa Maisky - L'Heure exquise (Virgin One ad).csv',\n",
       "       '17. Libera - Sanctus II.csv', 'morricone_full.csv'],\n",
       "      dtype='object')"
      ]
     },
     "execution_count": 7,
     "metadata": {},
     "output_type": "execute_result"
    }
   ],
   "source": [
    "recommendation"
   ]
  },
  {
   "cell_type": "code",
   "execution_count": null,
   "metadata": {},
   "outputs": [],
   "source": []
  }
 ],
 "metadata": {
  "kernelspec": {
   "display_name": "Python 3",
   "language": "python",
   "name": "python3"
  },
  "language_info": {
   "codemirror_mode": {
    "name": "ipython",
    "version": 3
   },
   "file_extension": ".py",
   "mimetype": "text/x-python",
   "name": "python",
   "nbconvert_exporter": "python",
   "pygments_lexer": "ipython3",
   "version": "3.7.1"
  }
 },
 "nbformat": 4,
 "nbformat_minor": 2
}
