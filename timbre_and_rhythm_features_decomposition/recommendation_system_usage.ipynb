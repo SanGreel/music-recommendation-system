{
 "cells": [
  {
   "cell_type": "code",
   "execution_count": 1,
   "metadata": {},
   "outputs": [],
   "source": [
    "import sys\n",
    "import os\n",
    "\n",
    "sys.path.append(os.getcwd()+'\\\\unit')"
   ]
  },
  {
   "cell_type": "code",
   "execution_count": 2,
   "metadata": {},
   "outputs": [
    {
     "name": "stdout",
     "output_type": "stream",
     "text": [
      "Populating the interactive namespace from numpy and matplotlib\n"
     ]
    }
   ],
   "source": [
    "from unit.music_accompaniment_features_preprocessing import *"
   ]
  },
  {
   "cell_type": "code",
   "execution_count": 3,
   "metadata": {},
   "outputs": [],
   "source": [
    "input_data_folder = \"../data/audio\"\n",
    "features_data_folder = \"../data/timbre_and_rhythm_features\""
   ]
  },
  {
   "cell_type": "markdown",
   "metadata": {},
   "source": [
    "### 0. Create database from the folder (it'll take a while)"
   ]
  },
  {
   "cell_type": "code",
   "execution_count": 4,
   "metadata": {},
   "outputs": [],
   "source": [
    "# as input - path to the folder with a music\n",
    "\n",
    "create_database_from_folder(input_data_folder, features_data_folder)"
   ]
  },
  {
   "cell_type": "markdown",
   "metadata": {},
   "source": [
    "### 1. Find simiral track in current database"
   ]
  },
  {
   "cell_type": "code",
   "execution_count": 15,
   "metadata": {},
   "outputs": [],
   "source": [
    "track_name = '04. Hans Zimmer - Now We Are Free (Gladiator).mp3'\n",
    "query_track = input_data_folder + '/classics/' + track_name"
   ]
  },
  {
   "cell_type": "code",
   "execution_count": 16,
   "metadata": {},
   "outputs": [],
   "source": [
    "# provide path to the track\n",
    "# example is Hans Zimmer - Now We Are Free (Gladiator) from audio data dir\n",
    "\n",
    "#running code could take some time because of features calculation\n",
    "\n",
    "recommendation = recommendation_for_new_track(query_track, features_data_folder)"
   ]
  },
  {
   "cell_type": "code",
   "execution_count": 19,
   "metadata": {},
   "outputs": [
    {
     "name": "stdout",
     "output_type": "stream",
     "text": [
      "For track\n",
      "04. Hans Zimmer - Now We Are Free (Gladiator).mp3\n",
      "\n",
      "We recommend you to listen:\n",
      "\n",
      "1) 07. Blessed With A Curse.mp3\n",
      "2) 09. Don't Go (Feat. Lights).mp3\n",
      "3) 01. Traitors Never Play Hang-Man.mp3\n",
      "4) 08. It Never Ends.mp3\n",
      "5) 06. The Comedown.mp3\n",
      "6) 10. Crucify Me (Feat. Lights).mp3\n",
      "7) 11 - Only In Dreams.mp3\n",
      "8) 05. Chelsea Smile.mp3\n",
      "9) 04-max_cooper-distant_light.mp3\n",
      "10) 16 - Northern Lights.mp3\n"
     ]
    }
   ],
   "source": [
    "k = 1\n",
    "\n",
    "print(\"For track\")\n",
    "print(track_name)\n",
    "print(\"\")\n",
    "\n",
    "\n",
    "print(\"We recommend you to listen:\")\n",
    "print(\"\")\n",
    "\n",
    "for i in recommendation[1:11]:\n",
    "    print(str(k),\") \", i.replace(\".csv\", \".mp3\"), sep=\"\")\n",
    "    # print(\"\")\n",
    "    k += 1"
   ]
  },
  {
   "cell_type": "markdown",
   "metadata": {},
   "source": [
    "#### Adding track to the current database"
   ]
  },
  {
   "cell_type": "code",
   "execution_count": 20,
   "metadata": {},
   "outputs": [
    {
     "ename": "TypeError",
     "evalue": "add_track_in_base() missing 1 required positional argument: 'features_data_folder'",
     "output_type": "error",
     "traceback": [
      "\u001b[0;31m---------------------------------------------------------------------------\u001b[0m",
      "\u001b[0;31mTypeError\u001b[0m                                 Traceback (most recent call last)",
      "\u001b[0;32m<ipython-input-20-705332c9a8b5>\u001b[0m in \u001b[0;36m<module>\u001b[0;34m()\u001b[0m\n\u001b[0;32m----> 1\u001b[0;31m \u001b[0madd_track_in_base\u001b[0m\u001b[0;34m(\u001b[0m\u001b[0mquery_track\u001b[0m\u001b[0;34m)\u001b[0m\u001b[0;34m\u001b[0m\u001b[0m\n\u001b[0m",
      "\u001b[0;31mTypeError\u001b[0m: add_track_in_base() missing 1 required positional argument: 'features_data_folder'"
     ]
    }
   ],
   "source": [
    "add_track_in_base(query_track, features_data_folder)"
   ]
  },
  {
   "cell_type": "code",
   "execution_count": 5,
   "metadata": {},
   "outputs": [
    {
     "name": "stdout",
     "output_type": "stream",
     "text": [
      "added\n"
     ]
    }
   ],
   "source": [
    "add_track_in_base('Ludovico Einaudi – Una Mattina.mp3')"
   ]
  }
 ],
 "metadata": {
  "kernelspec": {
   "display_name": "Python 3",
   "language": "python",
   "name": "python3"
  },
  "language_info": {
   "codemirror_mode": {
    "name": "ipython",
    "version": 3
   },
   "file_extension": ".py",
   "mimetype": "text/x-python",
   "name": "python",
   "nbconvert_exporter": "python",
   "pygments_lexer": "ipython3",
   "version": "3.6.3"
  }
 },
 "nbformat": 4,
 "nbformat_minor": 2
}
