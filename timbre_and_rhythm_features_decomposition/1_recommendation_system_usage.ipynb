{
 "cells": [
  {
   "cell_type": "code",
   "execution_count": 1,
   "metadata": {},
   "outputs": [
    {
     "name": "stdout",
     "output_type": "stream",
     "text": [
      "Populating the interactive namespace from numpy and matplotlib\n"
     ]
    }
   ],
   "source": [
    "import sys\n",
    "import os\n",
    "\n",
    "sys.path.append(os.getcwd()+'\\\\unit')\n",
    "from unit.music_accompaniment_features_preprocessing import *"
   ]
  },
  {
   "cell_type": "markdown",
   "metadata": {},
   "source": [
    "### Find simiral track in current database"
   ]
  },
  {
   "cell_type": "code",
   "execution_count": 2,
   "metadata": {},
   "outputs": [],
   "source": [
    "# provide path to the track\n",
    "# example is Ludovico Einaudi – Una Mattina in current dir\n",
    "\n",
    "#running code could take some time because of features calculation\n",
    "\n",
    "recommendation = recommendation_for_new_track('02-max_cooper_feat_kathrin_deboer-seed.mp3')"
   ]
  },
  {
   "cell_type": "code",
   "execution_count": 3,
   "metadata": {
    "scrolled": true
   },
   "outputs": [
    {
     "data": {
      "text/plain": [
       "Index(['02-max_cooper_feat_kathrin_deboer-seed.csv', '03-max_cooper-waves.csv',\n",
       "       '01 - Paper Gods.csv', '10-max_cooper-organa.csv',\n",
       "       '14 - On Evil Beach.csv', '11-max_cooper-unbounded.csv',\n",
       "       '04-max_cooper-distant_light.csv', '07-max_cooper-cyclic.csv',\n",
       "       '08. It Never Ends.csv',\n",
       "       '08-max_cooper_feat_kathrin_deboer-impermanence.csv',\n",
       "       '09. Don't Go (Feat. Lights).csv', '16 - Northern Lights.csv',\n",
       "       '07. Blessed With A Curse.csv', 'morricone_full.csv',\n",
       "       '09 - Change The Skyline.csv', '10. Crucify Me (Feat. Lights).csv',\n",
       "       '06. The Comedown.csv', '05. Chelsea Smile.csv',\n",
       "       '01. Traitors Never Play Hang-Man.csv',\n",
       "       '04. Hans Zimmer - Now We Are Free (Gladiator).csv'],\n",
       "      dtype='object')"
      ]
     },
     "execution_count": 3,
     "metadata": {},
     "output_type": "execute_result"
    }
   ],
   "source": [
    "recommendation"
   ]
  },
  {
   "cell_type": "markdown",
   "metadata": {},
   "source": [
    "### Add track to the current database"
   ]
  },
  {
   "cell_type": "code",
   "execution_count": 4,
   "metadata": {},
   "outputs": [
    {
     "name": "stdout",
     "output_type": "stream",
     "text": [
      "already in db\n"
     ]
    }
   ],
   "source": [
    "add_track_in_base('02-max_cooper_feat_kathrin_deboer-seed.mp3')"
   ]
  },
  {
   "cell_type": "code",
   "execution_count": 5,
   "metadata": {},
   "outputs": [
    {
     "name": "stdout",
     "output_type": "stream",
     "text": [
      "added\n"
     ]
    }
   ],
   "source": [
    "add_track_in_base('Ludovico Einaudi – Una Mattina.mp3')"
   ]
  }
 ],
 "metadata": {
  "kernelspec": {
   "display_name": "Python 3",
   "language": "python",
   "name": "python3"
  },
  "language_info": {
   "codemirror_mode": {
    "name": "ipython",
    "version": 3
   },
   "file_extension": ".py",
   "mimetype": "text/x-python",
   "name": "python",
   "nbconvert_exporter": "python",
   "pygments_lexer": "ipython3",
   "version": "3.6.3"
  }
 },
 "nbformat": 4,
 "nbformat_minor": 2
}
