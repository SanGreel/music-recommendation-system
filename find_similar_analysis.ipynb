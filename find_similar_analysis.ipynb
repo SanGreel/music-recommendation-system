{
 "cells": [
  {
   "cell_type": "code",
   "execution_count": 210,
   "metadata": {},
   "outputs": [],
   "source": [
    "from __future__ import print_function\n",
    "\n",
    "import librosa\n",
    "import librosa.display\n",
    "import IPython.display\n",
    "import numpy as np\n",
    "import pandas as pd\n",
    "import math\n",
    "import glob\n",
    "import csv"
   ]
  },
  {
   "cell_type": "code",
   "execution_count": 211,
   "metadata": {},
   "outputs": [],
   "source": [
    "import matplotlib.pyplot as plt\n",
    "import matplotlib.style as ms\n",
    "ms.use('seaborn-muted')\n",
    "%matplotlib inline"
   ]
  },
  {
   "cell_type": "code",
   "execution_count": 212,
   "metadata": {},
   "outputs": [],
   "source": [
    "collection_file = \"./data/0_collection.csv\"\n",
    "audio_data_folder = './data/db_a/'"
   ]
  },
  {
   "cell_type": "code",
   "execution_count": 65,
   "metadata": {},
   "outputs": [],
   "source": [
    "def read_from_files(file):\n",
    "    with open(file, 'r') as f:\n",
    "        reader = csv.reader(f)\n",
    "        audio_track_data = list(reader)\n",
    "    \n",
    "    for i in range(len(audio_track_data)):\n",
    "        # audio_track_data[i] = [float(j) for j in audio_track_data[i]]\n",
    "        audio_track_data[i] = np.array(audio_track_data[i]).astype(np.float)\n",
    "    \n",
    "    return audio_track_data"
   ]
  },
  {
   "cell_type": "code",
   "execution_count": 34,
   "metadata": {},
   "outputs": [],
   "source": [
    "def resizer(line1, line2):\n",
    "    len_line1 = len(line1)\n",
    "    len_line2 = len(line2)\n",
    "    \n",
    "    new_line1 = []\n",
    "    new_line2 = []\n",
    "    \n",
    "    if(len_line1>len_line2):\n",
    "        new_line1 = line1[0:len_line2]\n",
    "        new_line2 = line2\n",
    "    else:\n",
    "        new_line1 = line1\n",
    "        new_line2 = line2[0:len_line1]\n",
    "    \n",
    "    return new_line1, new_line2"
   ]
  },
  {
   "cell_type": "code",
   "execution_count": 156,
   "metadata": {},
   "outputs": [],
   "source": [
    "def compute_tracks_correlation(track_1, track_2):\n",
    "    track_correlations = []\n",
    "\n",
    "    for i in range(len(track_1)):\n",
    "        line1, line2 = resizer(track_1[i], track_2[i])\n",
    "        coefs = abs_sum(np.correlate(line1, line2, mode='full'))\n",
    "\n",
    "        track_correlations.append(coefs)\n",
    "    \n",
    "    return track_correlations"
   ]
  },
  {
   "cell_type": "code",
   "execution_count": 157,
   "metadata": {},
   "outputs": [],
   "source": [
    "def abs_sum(anylist):\n",
    "    coeff = [abs(number) for number in anylist]\n",
    "    result = np.mean(coeff)\n",
    "    #result = np.mean(lambda x, y: x + y, coeff) / len(coeff)\n",
    "    \n",
    "    return result"
   ]
  },
  {
   "cell_type": "code",
   "execution_count": 216,
   "metadata": {},
   "outputs": [],
   "source": [
    "def calculate_similarity(track_comparation_coeffs):\n",
    "    coeffs = []\n",
    "    \n",
    "    for coeff in track_comparation_coeffs:\n",
    "        coeff = [abs(number) for number in coeff]\n",
    "        result = np.mean(coeff)\n",
    "        \n",
    "        coeffs.append(result)\n",
    "    \n",
    "    return coeffs"
   ]
  },
  {
   "cell_type": "code",
   "execution_count": 207,
   "metadata": {},
   "outputs": [],
   "source": [
    "def get_top(l, n):\n",
    "    result = []\n",
    "    tl = sorted(l)[-3:]\n",
    "    # print(tl)\n",
    "    for t in tl:\n",
    "        result.append(l.index(t))\n",
    "        \n",
    "    return result"
   ]
  },
  {
   "cell_type": "code",
   "execution_count": 214,
   "metadata": {},
   "outputs": [],
   "source": [
    "df = pd.read_csv(collection_file, sep='\\t')\n",
    "df = df.drop(['Unnamed: 0'], axis=1)\n",
    "\n",
    "files = glob.glob(audio_data_folder + '/*.csv', recursive=True)"
   ]
  },
  {
   "cell_type": "code",
   "execution_count": 215,
   "metadata": {},
   "outputs": [],
   "source": [
    "tracks_data = []\n",
    "\n",
    "for file in files:\n",
    "    track_data = read_from_files(file)\n",
    "    tracks_data.append(track_data)"
   ]
  },
  {
   "cell_type": "code",
   "execution_count": 100,
   "metadata": {},
   "outputs": [],
   "source": [
    "# track_1 = read_from_files(files[0])\n",
    "# track_2 = read_from_files(files[1])\n",
    "\n",
    "# track_correlations2 = compute_tracks_correlation(track_1, track_2)\n",
    "# track_correlations2"
   ]
  },
  {
   "cell_type": "code",
   "execution_count": 217,
   "metadata": {},
   "outputs": [],
   "source": [
    "track_comparation_coeffs = []\n",
    "\n",
    "for track in tracks_data:\n",
    "    track_comparation_coeff = compute_tracks_correlation(track_2, track)\n",
    "    \n",
    "    track_comparation_coeffs.append(track_comparation_coeff)"
   ]
  },
  {
   "cell_type": "code",
   "execution_count": 218,
   "metadata": {},
   "outputs": [],
   "source": [
    "comparation_result = calculate_similarity(track_comparation_coeffs)"
   ]
  },
  {
   "cell_type": "code",
   "execution_count": 224,
   "metadata": {},
   "outputs": [],
   "source": [
    "result = get_top(comparation_result, 3)"
   ]
  },
  {
   "cell_type": "code",
   "execution_count": 222,
   "metadata": {},
   "outputs": [],
   "source": [
    "def get_row(df, index):\n",
    "    return df[index:index+1]"
   ]
  },
  {
   "cell_type": "code",
   "execution_count": 254,
   "metadata": {},
   "outputs": [
    {
     "name": "stdout",
     "output_type": "stream",
     "text": [
      "We recommend you to listen:\n",
      "\n",
      "1) 07. Mr Skeng.mp3  [rap]\n",
      "2) 14. Sleepwalking.mp3  [metal]\n",
      "3) 04-max_cooper-distant_light.mp3  [electro]\n"
     ]
    }
   ],
   "source": [
    "#rec_music = []\n",
    "k = 1\n",
    "\n",
    "print(\"We recommend you to listen:\")\n",
    "print(\"\")\n",
    "\n",
    "for i in result:\n",
    "    #a = get_row(df, i)\n",
    "    \n",
    "    print(str(k),\") \", df.iloc[i]['name'],\"  [\", df.iloc[i]['genre'], \"]\", sep=\"\")\n",
    "    # print(\"\")\n",
    "    k += 1"
   ]
  },
  {
   "cell_type": "code",
   "execution_count": null,
   "metadata": {},
   "outputs": [],
   "source": []
  },
  {
   "cell_type": "code",
   "execution_count": null,
   "metadata": {},
   "outputs": [],
   "source": []
  }
 ],
 "metadata": {
  "kernelspec": {
   "display_name": "Python 3",
   "language": "python",
   "name": "python3"
  },
  "language_info": {
   "codemirror_mode": {
    "name": "ipython",
    "version": 3
   },
   "file_extension": ".py",
   "mimetype": "text/x-python",
   "name": "python",
   "nbconvert_exporter": "python",
   "pygments_lexer": "ipython3",
   "version": "3.6.3"
  }
 },
 "nbformat": 4,
 "nbformat_minor": 2
}
