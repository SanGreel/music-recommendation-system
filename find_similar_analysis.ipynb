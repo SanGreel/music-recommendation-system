{
 "cells": [
  {
   "cell_type": "code",
   "execution_count": 210,
   "metadata": {},
   "outputs": [],
   "source": [
    "from __future__ import print_function\n",
    "\n",
    "import librosa\n",
    "import librosa.display\n",
    "import IPython.display\n",
    "import numpy as np\n",
    "import pandas as pd\n",
    "import math\n",
    "import glob\n",
    "import csv"
   ]
  },
  {
   "cell_type": "code",
   "execution_count": 211,
   "metadata": {},
   "outputs": [],
   "source": [
    "import matplotlib.pyplot as plt\n",
    "import matplotlib.style as ms\n",
    "ms.use('seaborn-muted')\n",
    "%matplotlib inline"
   ]
  },
  {
   "cell_type": "code",
   "execution_count": 304,
   "metadata": {},
   "outputs": [],
   "source": [
    "collection_file = \"./data/0_collection.csv\"\n",
    "audio_data_folder = './data/db_20/'"
   ]
  },
  {
   "cell_type": "code",
   "execution_count": 305,
   "metadata": {},
   "outputs": [],
   "source": [
    "def read_from_files(file):\n",
    "    with open(file, 'r') as f:\n",
    "        reader = csv.reader(f)\n",
    "        audio_track_data = list(reader)\n",
    "    \n",
    "    for i in range(len(audio_track_data)):\n",
    "        # audio_track_data[i] = [float(j) for j in audio_track_data[i]]\n",
    "        audio_track_data[i] = np.array(audio_track_data[i]).astype(np.float)\n",
    "    \n",
    "    return audio_track_data"
   ]
  },
  {
   "cell_type": "code",
   "execution_count": 306,
   "metadata": {},
   "outputs": [],
   "source": [
    "def resizer(line1, line2):\n",
    "    len_line1 = len(line1)\n",
    "    len_line2 = len(line2)\n",
    "    \n",
    "    new_line1 = []\n",
    "    new_line2 = []\n",
    "    \n",
    "    if(len_line1>len_line2):\n",
    "        new_line1 = line1[0:len_line2]\n",
    "        new_line2 = line2\n",
    "    else:\n",
    "        new_line1 = line1\n",
    "        new_line2 = line2[0:len_line1]\n",
    "    \n",
    "    return new_line1, new_line2"
   ]
  },
  {
   "cell_type": "code",
   "execution_count": 319,
   "metadata": {},
   "outputs": [],
   "source": [
    "import numpy as np\n",
    "from numpy.fft import fft, ifft, fft2, ifft2, fftshift\n",
    " \n",
    "def cross_correlation_using_fft(x, y):\n",
    "    f1 = fft(x)\n",
    "    f2 = fft(np.flipud(y))\n",
    "    cc = np.real(ifft(f1 * f2))\n",
    "    return fftshift(cc)\n",
    " \n",
    "# shift &lt; 0 means that y starts 'shift' time steps before x # shift &gt; 0 means that y starts 'shift' time steps after x\n",
    "def compute_shift(x, y):\n",
    "    assert len(x) == len(y)\n",
    "    c = cross_correlation_using_fft(x, y)\n",
    "    assert len(c) == len(x)\n",
    "    zero_index = int(len(x) / 2) - 1\n",
    "    shift = zero_index - np.argmax(c)\n",
    "    return shift"
   ]
  },
  {
   "cell_type": "code",
   "execution_count": 322,
   "metadata": {},
   "outputs": [],
   "source": [
    "#other correlation approache\n",
    "\n",
    "def compute_tracks_correlation(track_1, track_2):\n",
    "    track_correlations = []\n",
    "\n",
    "    for i in range(len(track_1)):\n",
    "        line1, line2 = resizer(track_1[i], track_2[i])\n",
    "        #coefs = abs_mean(np.correlate(line1, line2, mode='full'))\n",
    "        coefs = abs_mean(cross_correlation_using_fft(line1, line2))\n",
    "        \n",
    "        track_correlations.append(coefs)\n",
    "        print(coefs)\n",
    "        \n",
    "    return track_correlations"
   ]
  },
  {
   "cell_type": "code",
   "execution_count": 308,
   "metadata": {},
   "outputs": [],
   "source": [
    "def abs_mean(anylist):\n",
    "    coeff = [abs(number) for number in anylist]\n",
    "    result = np.mean(coeff)\n",
    "    \n",
    "    return result"
   ]
  },
  {
   "cell_type": "code",
   "execution_count": 380,
   "metadata": {},
   "outputs": [],
   "source": [
    "# Maybe max?\n",
    "\n",
    "\n",
    "def calculate_similarity(track_comparation_coeffs):\n",
    "    coeffs = []\n",
    "    \n",
    "    for coeff in track_comparation_coeffs:\n",
    "        coeff = [abs(number) for number in coeff]\n",
    "        result = np.mean(coeff) # np.mean(coeff)\n",
    "        \n",
    "        coeffs.append(result)\n",
    "    \n",
    "    return coeffs"
   ]
  },
  {
   "cell_type": "code",
   "execution_count": 310,
   "metadata": {},
   "outputs": [],
   "source": [
    "def get_top(l, n):\n",
    "    result = []\n",
    "    tl = sorted(l, reverse=True)[:n]\n",
    "    # print(tl)\n",
    "    for t in tl:\n",
    "        result.append(l.index(t))\n",
    "        \n",
    "    return result"
   ]
  },
  {
   "cell_type": "code",
   "execution_count": 311,
   "metadata": {},
   "outputs": [],
   "source": [
    "df = pd.read_csv(collection_file, sep='\\t')\n",
    "df = df.drop(['Unnamed: 0'], axis=1)\n",
    "\n",
    "files = glob.glob(audio_data_folder + '/*.csv', recursive=True)"
   ]
  },
  {
   "cell_type": "code",
   "execution_count": 312,
   "metadata": {},
   "outputs": [],
   "source": [
    "tracks_data = []\n",
    "\n",
    "for file in files:\n",
    "    track_data = read_from_files(file)\n",
    "    tracks_data.append(track_data)"
   ]
  },
  {
   "cell_type": "code",
   "execution_count": 100,
   "metadata": {},
   "outputs": [],
   "source": [
    "# track_1 = read_from_files(files[0])\n",
    "# track_2 = read_from_files(files[1])\n",
    "\n",
    "# track_correlations2 = compute_tracks_correlation(track_1, track_2)\n",
    "# track_correlations2"
   ]
  },
  {
   "cell_type": "code",
   "execution_count": 316,
   "metadata": {},
   "outputs": [],
   "source": [
    "#len(tracks_data[0][0])"
   ]
  },
  {
   "cell_type": "code",
   "execution_count": 317,
   "metadata": {},
   "outputs": [],
   "source": [
    "q_index = 17\n",
    "track_q = read_from_files(files[q_index])"
   ]
  },
  {
   "cell_type": "code",
   "execution_count": 324,
   "metadata": {},
   "outputs": [
    {
     "name": "stdout",
     "output_type": "stream",
     "text": [
      "0\n",
      "1\n",
      "2\n",
      "3\n",
      "4\n",
      "5\n",
      "6\n",
      "7\n",
      "8\n",
      "9\n",
      "10\n",
      "11\n",
      "12\n",
      "13\n",
      "14\n",
      "15\n",
      "16\n",
      "17\n",
      "18\n",
      "19\n",
      "20\n",
      "21\n",
      "22\n",
      "23\n",
      "24\n",
      "25\n",
      "26\n",
      "27\n",
      "28\n",
      "29\n",
      "30\n",
      "31\n",
      "32\n",
      "33\n",
      "34\n",
      "35\n",
      "36\n",
      "37\n",
      "38\n",
      "39\n",
      "40\n",
      "41\n",
      "42\n",
      "43\n",
      "44\n",
      "45\n",
      "46\n",
      "47\n",
      "48\n",
      "49\n",
      "50\n",
      "51\n",
      "52\n",
      "53\n",
      "54\n",
      "55\n",
      "56\n",
      "57\n",
      "58\n",
      "59\n",
      "60\n",
      "61\n",
      "62\n",
      "63\n",
      "64\n",
      "65\n",
      "66\n",
      "67\n",
      "68\n",
      "69\n",
      "70\n",
      "71\n",
      "72\n",
      "73\n",
      "74\n",
      "75\n",
      "76\n",
      "77\n",
      "78\n",
      "79\n",
      "80\n",
      "81\n",
      "82\n",
      "83\n",
      "84\n",
      "85\n",
      "86\n",
      "87\n",
      "88\n",
      "89\n",
      "90\n",
      "91\n",
      "92\n",
      "93\n",
      "94\n",
      "95\n",
      "96\n",
      "97\n",
      "98\n",
      "99\n",
      "100\n"
     ]
    }
   ],
   "source": [
    "track_comparation_coeffs = []\n",
    "h = 0 \n",
    "\n",
    "for track in tracks_data:\n",
    "    print(h)\n",
    "    track_comparation_coeff = compute_tracks_correlation(track_q, track)\n",
    "    \n",
    "    track_comparation_coeffs.append(track_comparation_coeff)\n",
    "    h +=1"
   ]
  },
  {
   "cell_type": "code",
   "execution_count": 325,
   "metadata": {},
   "outputs": [
    {
     "data": {
      "text/plain": [
       "[0.17695486976842867,\n",
       " 0.09311928018538658,\n",
       " 0.02398739077308209,\n",
       " 0.0481999403824754,\n",
       " 0.11422588940048352,\n",
       " 0.04560800605183252,\n",
       " 0.02907474723106338,\n",
       " 0.00668813322115499]"
      ]
     },
     "execution_count": 325,
     "metadata": {},
     "output_type": "execute_result"
    }
   ],
   "source": [
    "track_comparation_coeffs[0]"
   ]
  },
  {
   "cell_type": "code",
   "execution_count": 381,
   "metadata": {},
   "outputs": [],
   "source": [
    "comparation_result = calculate_similarity(track_comparation_coeffs)"
   ]
  },
  {
   "cell_type": "code",
   "execution_count": 382,
   "metadata": {},
   "outputs": [],
   "source": [
    "# comparation_result"
   ]
  },
  {
   "cell_type": "code",
   "execution_count": 383,
   "metadata": {},
   "outputs": [],
   "source": [
    "result = get_top(comparation_result, 5)"
   ]
  },
  {
   "cell_type": "code",
   "execution_count": 384,
   "metadata": {},
   "outputs": [
    {
     "data": {
      "text/plain": [
       "[17, 82, 88, 60, 72]"
      ]
     },
     "execution_count": 384,
     "metadata": {},
     "output_type": "execute_result"
    }
   ],
   "source": [
    "result"
   ]
  },
  {
   "cell_type": "code",
   "execution_count": 385,
   "metadata": {},
   "outputs": [
    {
     "data": {
      "text/plain": [
       "[1.5299134181812555,\n",
       " 1.3077262179725304,\n",
       " 1.297614160405523,\n",
       " 1.0253189475587274,\n",
       " 0.9805955960621737]"
      ]
     },
     "execution_count": 385,
     "metadata": {},
     "output_type": "execute_result"
    }
   ],
   "source": [
    "tl = sorted(comparation_result, reverse=True)[:5]\n",
    "tl"
   ]
  },
  {
   "cell_type": "code",
   "execution_count": 386,
   "metadata": {},
   "outputs": [],
   "source": [
    "# df"
   ]
  },
  {
   "cell_type": "code",
   "execution_count": 387,
   "metadata": {},
   "outputs": [
    {
     "name": "stdout",
     "output_type": "stream",
     "text": [
      "For track\n",
      "09. Sarah Brightman - Time To Say Goodbye (Con Te Partiro).mp3  [classics]\n",
      "\n",
      "We recommend you to listen:\n",
      "\n",
      "1) 09. Sarah Brightman - Time To Say Goodbye (Con Te Partiro).mp3  [classics]\n",
      "2) 13 - Planet Roaring.mp3  [pop]\n",
      "3) 03. Bad Boys (feat. Ghetts and J Hus).mp3  [rap]\n",
      "4) 09. Don't Go (Feat. Lights).mp3  [metal]\n",
      "5) 03 - You Kill Me with Sirence.mp3  [pop]\n"
     ]
    }
   ],
   "source": [
    "#rec_music = []\n",
    "k = 1\n",
    "\n",
    "print(\"For track\")\n",
    "print(df.iloc[q_index]['name'],\"  [\", df.iloc[q_index]['genre'], \"]\", sep=\"\")\n",
    "print(\"\")\n",
    "\n",
    "\n",
    "print(\"We recommend you to listen:\")\n",
    "print(\"\")\n",
    "\n",
    "for i in result:\n",
    "    #a = get_row(df, i)\n",
    "    \n",
    "    print(str(k),\") \", df.iloc[i]['name'],\"  [\", df.iloc[i]['genre'], \"]\", sep=\"\")\n",
    "    # print(\"\")\n",
    "    k += 1"
   ]
  },
  {
   "cell_type": "code",
   "execution_count": null,
   "metadata": {},
   "outputs": [],
   "source": []
  },
  {
   "cell_type": "code",
   "execution_count": null,
   "metadata": {},
   "outputs": [],
   "source": []
  }
 ],
 "metadata": {
  "kernelspec": {
   "display_name": "Python 3",
   "language": "python",
   "name": "python3"
  },
  "language_info": {
   "codemirror_mode": {
    "name": "ipython",
    "version": 3
   },
   "file_extension": ".py",
   "mimetype": "text/x-python",
   "name": "python",
   "nbconvert_exporter": "python",
   "pygments_lexer": "ipython3",
   "version": "3.6.3"
  }
 },
 "nbformat": 4,
 "nbformat_minor": 2
}
